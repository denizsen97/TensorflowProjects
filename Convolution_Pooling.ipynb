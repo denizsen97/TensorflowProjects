{
  "nbformat": 4,
  "nbformat_minor": 0,
  "metadata": {
    "kernelspec": {
      "name": "python3",
      "display_name": "Python 3"
    },
    "language_info": {
      "codemirror_mode": {
        "name": "ipython",
        "version": 3
      },
      "file_extension": ".py",
      "mimetype": "text/x-python",
      "name": "python",
      "nbconvert_exporter": "python",
      "pygments_lexer": "ipython3",
      "version": "3.5.4"
    },
    "colab": {
      "name": "Copy of Question 2.ipynb",
      "provenance": [],
      "collapsed_sections": []
    },
    "accelerator": "GPU"
  },
  "cells": [
    {
      "cell_type": "markdown",
      "metadata": {
        "id": "pF8zJI6l0Zrp",
        "colab_type": "text"
      },
      "source": [
        "# 2. Convolution and Pooling (10 - 10 pts)"
      ]
    },
    {
      "cell_type": "markdown",
      "metadata": {
        "id": "Z_AwwfZZ0Zrq",
        "colab_type": "text"
      },
      "source": [
        "### a) Write a function for convolution operation in the cell below. Write your own code with your own algorithm. It should have necessary error checks for matrix dimensions (consider multichannel matrices). Inputs must have the same structure as Tensorflow convolution operation and also the results must be same. Check [tf.nn.convolution](https://www.tensorflow.org/api_docs/python/tf/nn/convolution)"
      ]
    },
    {
      "cell_type": "code",
      "metadata": {
        "id": "Xu2ZYiKO0Zrr",
        "colab_type": "code",
        "outputId": "1a74a348-45eb-420e-a92c-c13a6002469f",
        "colab": {
          "base_uri": "https://localhost:8080/",
          "height": 102
        }
      },
      "source": [
        "%tensorflow_version 1.x\" before \"import tensorflow\n",
        "import tensorflow as tf\n",
        "import numpy as np\n",
        "from math import floor, ceil"
      ],
      "execution_count": 0,
      "outputs": [
        {
          "output_type": "stream",
          "text": [
            "`%tensorflow_version` only switches the major version: 1.x or 2.x.\n",
            "You set: `1.x\" before \"import tensorflow`. This will be interpreted as: `1.x`.\n",
            "\n",
            "\n",
            "TensorFlow 1.x selected.\n"
          ],
          "name": "stdout"
        }
      ]
    },
    {
      "cell_type": "markdown",
      "metadata": {
        "id": "tjizVJYY29VL",
        "colab_type": "text"
      },
      "source": [
        "# Convolution\n",
        "This method is the implementation of convolution operation on a multichannel image *my_input* with a filter whose dimensions are given with the parameter *my_filter*. The padding type can be specified with *my_padding*, by giving either \"VALID\"(for no padding) or \"SAME\"(for padding to conserve the input dimensions). The stride dimensions can be specified with \"my_strides\" parameter with a type of list."
      ]
    },
    {
      "cell_type": "code",
      "metadata": {
        "id": "49dlbKp40Zru",
        "colab_type": "code",
        "colab": {}
      },
      "source": [
        "def my_convolution(my_input, my_filter, my_padding, my_strides):  \n",
        "    \n",
        "    f_shape = my_filter.shape\n",
        "    in_shape = my_input.shape\n",
        "    my_strides[0] = floor(my_strides[0])\n",
        "    my_strides[1] = floor(my_strides[1])\n",
        "    \n",
        "    N = len(in_shape) - 2\n",
        "    assert 1 <= N <= 3    \n",
        "    assert len(in_shape) >= 2\n",
        "    assert len(f_shape) >= 2\n",
        "    assert in_shape[1] >= f_shape[0] \n",
        "    assert in_shape[2] >= f_shape[1]\n",
        "    assert in_shape[3] == f_shape[2]  \n",
        "    assert my_padding is \"VALID\" or my_padding is \"SAME\"\n",
        "\n",
        "\n",
        "    if my_padding is \"VALID\":\n",
        "      p_height = 0\n",
        "      p_width = 0\n",
        "      x = lambda i,f,s: ceil((i - (f-1)) / s) \n",
        "      ret = np.zeros(shape=(in_shape[0], x(in_shape[1], f_shape[0], my_strides[0]), x(in_shape[2], f_shape[1], my_strides[1]), f_shape[3]))\n",
        "    elif my_padding is \"SAME\":\n",
        "      p_height = floor(f_shape[0]/2)\n",
        "      p_width = floor(f_shape[1]/2)\n",
        "      x = lambda i,s: ceil(i / s)\n",
        "      ret = np.zeros(shape=(in_shape[0], x(in_shape[1], my_strides[0]), x(in_shape[2], my_strides[1]), f_shape[3]))\n",
        "\n",
        "    use = np.zeros(shape=(in_shape[0], in_shape[1] + 2*p_height, in_shape[2] + 2*p_width, in_shape[3]))\n",
        "    use[:, p_height: use.shape[1]-p_height, p_width:use.shape[2]-p_width, :] = my_input\n",
        "\n",
        "    #batch size\n",
        "    for i in range(in_shape[0]):\n",
        "      #input height\n",
        "      for j in np.arange(floor(f_shape[0]/2), use.shape[1]-floor(f_shape[0]/2), my_strides[0]):\n",
        "        #input width\n",
        "        for k in np.arange(floor(f_shape[1]/2), use.shape[2]-floor(f_shape[1]/2), my_strides[1]):\n",
        "          #filter number\n",
        "          for m in range(f_shape[3]):\n",
        "            addition = 0\n",
        "            #filter height\n",
        "            for h in np.arange(-floor(f_shape[0]/2), floor(f_shape[0]/2) + 1, 1):\n",
        "              #filter width\n",
        "              for w in np.arange(-floor(f_shape[1]/2), floor(f_shape[1]/2) + 1, 1):\n",
        "                #input depth\n",
        "                for q in range(in_shape[3]):\n",
        "                  addition += use[i, j + h, k + w, q] * my_filter[floor(f_shape[0]/2) + h, floor(f_shape[1]/2) + w, q, m]\n",
        "            ret[i, ceil((j- floor(f_shape[0]/2))/my_strides[0]), ceil((k - floor(f_shape[1]/2))/my_strides[1]), m] = addition\n",
        "\n",
        "    return ret"
      ],
      "execution_count": 0,
      "outputs": []
    },
    {
      "cell_type": "markdown",
      "metadata": {
        "id": "GR_tYr_qwDet",
        "colab_type": "text"
      },
      "source": [
        "From the tf.nn.convolution documentation:\n",
        "\n",
        "\n",
        "1.   input: An (N+2)-D Tensor of type T, of shape [batch_size] + input_spatial_shape + [in_channels] if data_format does not start with \"NC\" (default), or [batch_size, in_channels] + input_spatial_shape if data_format starts with \"NC\".\n",
        "2.   filter: An (N+2)-D Tensor with the same type as input and shape spatial_filter_shape + [in_channels, out_channels].\n",
        "3. padding: A string, either \"VALID\" or \"SAME\". The padding algorithm.\n",
        "4. strides: Optional. Sequence of N ints >= 1. Specifies the output stride. Defaults to [1]*N. If any value of strides is > 1, then all values of dilation_rate must be 1.\n"
      ]
    },
    {
      "cell_type": "code",
      "metadata": {
        "id": "aaf57fDC0Zry",
        "colab_type": "code",
        "colab": {}
      },
      "source": [
        "def tf_convolution(tf_input, tf_filter, tf_padding, tf_strides):\n",
        "    \n",
        "    sess = tf.Session()\n",
        "    tf_function = tf.nn.convolution(input=tf_input, filter=tf_filter, padding=tf_padding, strides=tf_strides)\n",
        "    tf_output = sess.run(tf_function)\n",
        "    sess.close()\n",
        "    \n",
        "    return tf_output"
      ],
      "execution_count": 0,
      "outputs": []
    },
    {
      "cell_type": "code",
      "metadata": {
        "id": "VBezZ6kY0Zr1",
        "colab_type": "code",
        "outputId": "657cfbe3-7486-4940-890c-74c94f2244d0",
        "colab": {
          "base_uri": "https://localhost:8080/",
          "height": 1000
        }
      },
      "source": [
        "sample_input = np.random.random([1,5,5,1])\n",
        "sample_filter = np.random.random([3,3,1,1])\n",
        "sample_padding = \"SAME\"\n",
        "sample_strides = [2,2]\n",
        "\n",
        "tf_output = tf_convolution(sample_input,sample_filter,sample_padding,sample_strides)\n",
        "my_output = my_convolution(sample_input,sample_filter,sample_padding,sample_strides)\n",
        "\n",
        "print(\"input:\")\n",
        "print(sample_input)\n",
        "print(\"filter:\")\n",
        "print(sample_filter)\n",
        "print(\"output:\")\n",
        "print(tf_output)"
      ],
      "execution_count": 0,
      "outputs": [
        {
          "output_type": "stream",
          "text": [
            "input:\n",
            "[[[[0.71950311]\n",
            "   [0.86032599]\n",
            "   [0.65654004]\n",
            "   [0.99101177]\n",
            "   [0.00723444]]\n",
            "\n",
            "  [[0.11298596]\n",
            "   [0.74380132]\n",
            "   [0.16618082]\n",
            "   [0.7534613 ]\n",
            "   [0.25576091]]\n",
            "\n",
            "  [[0.16052137]\n",
            "   [0.52499305]\n",
            "   [0.7855823 ]\n",
            "   [0.23870289]\n",
            "   [0.61803179]]\n",
            "\n",
            "  [[0.30325429]\n",
            "   [0.09959388]\n",
            "   [0.43617282]\n",
            "   [0.98500698]\n",
            "   [0.7024627 ]]\n",
            "\n",
            "  [[0.86552284]\n",
            "   [0.87392352]\n",
            "   [0.03369949]\n",
            "   [0.41557934]\n",
            "   [0.11142732]]]]\n",
            "filter:\n",
            "[[[[0.0095794 ]]\n",
            "\n",
            "  [[0.16400217]]\n",
            "\n",
            "  [[0.60847611]]]\n",
            "\n",
            "\n",
            " [[[0.8487276 ]]\n",
            "\n",
            "  [[0.01185965]]\n",
            "\n",
            "  [[0.68977959]]]\n",
            "\n",
            "\n",
            " [[[0.28972102]]\n",
            "\n",
            "  [[0.61696787]]\n",
            "\n",
            "  [[0.44197069]]]]\n",
            "output:\n",
            "[[[[1.00041545]\n",
            "   [2.07257936]\n",
            "   [1.21727469]]\n",
            "\n",
            "  [[1.06626423]\n",
            "   [1.84569087]\n",
            "   [0.97786057]]\n",
            "\n",
            "  [[0.72341426]\n",
            "   [1.70062138]\n",
            "   [0.47867633]]]]\n"
          ],
          "name": "stdout"
        }
      ]
    },
    {
      "cell_type": "markdown",
      "metadata": {
        "id": "z-Y7taZK0Zr4",
        "colab_type": "text"
      },
      "source": [
        "### b) Write a function for pooling operation in the cell below. Write your own code with your own algorithm. It should have necessary error checks for matrix dimensions (consider multichannel matrices). Inputs must have the same structure as Tensorflow pooling operation and also the results must be same. Check [tf.nn.pool](https://www.tensorflow.org/api_docs/python/tf/nn/pool)"
      ]
    },
    {
      "cell_type": "markdown",
      "metadata": {
        "id": "P3hQneDy-F-v",
        "colab_type": "text"
      },
      "source": [
        "# Pooling\n",
        "This function performs pooling operation in a striding window over an image with multiple depths. The parameter \"my_input\" takes the input image as a numpy array. The shape of the pooling window is specified with \"my_window_shape\" and the stride is given with \"my_strides\". The pooling type is taken with \"my_padding\" parameter while either being \"MAX\"(for max pooling) or \"AVG\"(for average pooling)."
      ]
    },
    {
      "cell_type": "code",
      "metadata": {
        "id": "XkrM5MTD0Zr5",
        "colab_type": "code",
        "colab": {}
      },
      "source": [
        "def my_pooling(my_input, my_window_shape, my_pooling_type, my_padding, my_strides):\n",
        "\n",
        "    w_shape = my_window_shape\n",
        "    in_shape = my_input.shape\n",
        "    my_strides[0] = floor(my_strides[0])\n",
        "    my_strides[1] = floor(my_strides[1])\n",
        "\n",
        "    N = len(in_shape) - 2\n",
        "    assert len(in_shape) >= 2\n",
        "\n",
        "    assert len(w_shape) >= 2\n",
        "    assert len(w_shape) == N  \n",
        "    assert my_padding is \"VALID\" or my_padding is \"SAME\"\n",
        "    assert my_pooling_type is \"MAX\" or my_pooling_type is \"AVG\"\n",
        "    assert len(my_strides) >= N\n",
        "    assert w_shape[0] >= my_strides[0]\n",
        "    assert w_shape[1] >= my_strides[1]\n",
        "\n",
        "    if my_padding is \"VALID\":\n",
        "      p_height = 0\n",
        "      p_width = 0\n",
        "      x = lambda i,f,s: ceil((i - (f-1)) / s) \n",
        "      out_height = x(in_shape[1], w_shape[0], my_strides[0])\n",
        "      out_width = x(in_shape[2], w_shape[1], my_strides[1])\n",
        "      pad_along_height = 0\n",
        "      pad_along_width = 0\n",
        "      pad_top\t= 0\n",
        "      pad_bottom\t= 0\n",
        "      pad_left\t= 0\n",
        "      pad_right\t= 0\n",
        "      ret = np.zeros(shape=(in_shape[0], out_height, out_width, in_shape[3]))\n",
        "    elif my_padding is \"SAME\":\n",
        "      p_height = floor(w_shape[0]/2)\n",
        "      p_width = floor(w_shape[1]/2)\n",
        "      x = lambda i,s: ceil(i / s)\n",
        "      out_height = x(in_shape[1], my_strides[0])\n",
        "      out_width = x(in_shape[2], my_strides[1])\n",
        "      pad_along_height = max((out_height - 1) * my_strides[0] + w_shape[0] - in_shape[1], 0)\n",
        "      pad_along_width = max((out_width - 1) * my_strides[1] + w_shape[1] - in_shape[2], 0)\n",
        "      pad_top\t= pad_along_height // 2\n",
        "      pad_bottom\t= pad_along_height - pad_top\n",
        "      pad_left\t= pad_along_width // 2\n",
        "      pad_right\t= pad_along_width - pad_left\n",
        "\n",
        "      ret = np.zeros(shape=(in_shape[0], out_height, out_width, in_shape[3]))\n",
        "\n",
        "    use = np.zeros(shape=(in_shape[0], in_shape[1] + pad_along_height, in_shape[2] + pad_along_width, in_shape[3]))\n",
        "    use[:, pad_top: use.shape[1]-pad_bottom, pad_left:use.shape[2]-pad_right, :] = my_input\n",
        "\n",
        "    #we should not include the pads to the average of max operations\n",
        "    #hence we exclude them with these methods\n",
        "    def average_pool(sample, hI, wI, dI):\n",
        "      sum = 0\n",
        "      count = 0\n",
        "      for i in range(hI, hI + floor(w_shape[0])):\n",
        "        for j in range(wI, wI + floor(w_shape[1])):\n",
        "          if i >= pad_left and j >= pad_top and i < in_shape[1] and j < in_shape[2]:\n",
        "            sum += use[sample, i, j, dI]\n",
        "            count += 1\n",
        "      return sum / count\n",
        "\n",
        "    def max_pool(sample, hI, wI, dI):\n",
        "      maximum = -48345738\n",
        "      for i in range(hI, hI + floor(w_shape[0])):\n",
        "        for j in range(wI, wI + floor(w_shape[1])):\n",
        "          if i >= pad_left and j >= pad_top andi < in_shape[1] and j < in_shape[2]:\n",
        "            maximum = max(use[sample, i, j, dI], maximum)\n",
        "            \n",
        "      return maximum\n",
        "\n",
        "\n",
        "    if my_pooling_type is \"MAX\":\n",
        "      pooling = lambda s, h, w, i:max_pool(s, h, w, i)\n",
        "    elif my_pooling_type is \"AVG\":\n",
        "      pooling = lambda s, h, w, i:average_pool(s, h, w, i)\n",
        "\n",
        "\n",
        "    #batch size\n",
        "    for i in range(in_shape[0]):\n",
        "      #input height\n",
        "      for j in np.arange(0, use.shape[1]-floor(w_shape[0]/2), my_strides[0]):\n",
        "        #input width\n",
        "        for k in np.arange(0, use.shape[2]-floor(w_shape[1]/2), my_strides[1]):\n",
        "          #input depth\n",
        "          for m in range(in_shape[3]):\n",
        "            ret[i, ceil(j/my_strides[0]), ceil(k/my_strides[1]), m] = pooling(i, j,  k, m)\n",
        "\n",
        "\n",
        "\n",
        "    return ret"
      ],
      "execution_count": 0,
      "outputs": []
    },
    {
      "cell_type": "code",
      "metadata": {
        "id": "OKF8fa7u0Zr8",
        "colab_type": "code",
        "colab": {}
      },
      "source": [
        "def tf_pooling(tf_input, tf_window_shape, tf_pooling_type, tf_padding, tf_strides):\n",
        "    \n",
        "    sess = tf.Session()\n",
        "    tf_function = tf.nn.pool(input=tf_input, window_shape=tf_window_shape, pooling_type=tf_pooling_type, padding=tf_padding, strides=tf_strides)\n",
        "    tf_output = sess.run(tf_function)\n",
        "    sess.close()\n",
        "    \n",
        "    return tf_output"
      ],
      "execution_count": 0,
      "outputs": []
    },
    {
      "cell_type": "code",
      "metadata": {
        "id": "QcMKaB_L0Zr_",
        "colab_type": "code",
        "outputId": "e47b2f94-36f7-484c-b711-95d96d8d5085",
        "colab": {
          "base_uri": "https://localhost:8080/",
          "height": 493
        }
      },
      "source": [
        "sample_input = np.random.random([1,4,3,1])\n",
        "sample_window_shape = [2,2]\n",
        "sample_pooling_type = \"AVG\"\n",
        "sample_padding = \"SAME\"\n",
        "sample_strides = [2,2]\n",
        "\n",
        "tf_output = tf_pooling(sample_input,sample_window_shape,sample_pooling_type,sample_padding,sample_strides)\n",
        "my_output = my_pooling(sample_input,sample_window_shape,sample_pooling_type,sample_padding,sample_strides)\n",
        "\n",
        "print(\"input:\")\n",
        "print(sample_input)\n",
        "print(\"output:\")\n",
        "print(tf_output)\n",
        "print(\"my output:\")\n",
        "print(my_output)"
      ],
      "execution_count": 0,
      "outputs": [
        {
          "output_type": "stream",
          "text": [
            "input:\n",
            "[[[[0.96993453]\n",
            "   [0.17925985]\n",
            "   [0.54353287]]\n",
            "\n",
            "  [[0.52305583]\n",
            "   [0.88540399]\n",
            "   [0.17589982]]\n",
            "\n",
            "  [[0.16149899]\n",
            "   [0.79599133]\n",
            "   [0.01808049]]\n",
            "\n",
            "  [[0.29914766]\n",
            "   [0.83458964]\n",
            "   [0.07202726]]]]\n",
            "output:\n",
            "[[[[0.63941355]\n",
            "   [0.35971635]]\n",
            "\n",
            "  [[0.52280691]\n",
            "   [0.04505388]]]]\n",
            "my output:\n",
            "[[[[0.63941355]\n",
            "   [0.35971635]]\n",
            "\n",
            "  [[0.52280691]\n",
            "   [0.04505388]]]]\n"
          ],
          "name": "stdout"
        }
      ]
    }
  ]
}