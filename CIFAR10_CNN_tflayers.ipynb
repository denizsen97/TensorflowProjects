{
  "nbformat": 4,
  "nbformat_minor": 0,
  "metadata": {
    "anaconda-cloud": {},
    "kernelspec": {
      "name": "python3",
      "display_name": "Python 3"
    },
    "language_info": {
      "codemirror_mode": {
        "name": "ipython",
        "version": 3
      },
      "file_extension": ".py",
      "mimetype": "text/x-python",
      "name": "python",
      "nbconvert_exporter": "python",
      "pygments_lexer": "ipython3",
      "version": "3.5.4"
    },
    "colab": {
      "name": "Question 3_2.ipynb",
      "provenance": [],
      "collapsed_sections": []
    },
    "accelerator": "GPU"
  },
  "cells": [
    {
      "cell_type": "markdown",
      "metadata": {
        "id": "gbLcbeEUkCgS",
        "colab_type": "text"
      },
      "source": [
        "# 3. Convolutional Neural Networks (60 pts)"
      ]
    },
    {
      "cell_type": "markdown",
      "metadata": {
        "id": "9UoTXCQskCgU",
        "colab_type": "text"
      },
      "source": [
        "### Implement the convolutional neural network shown below for CIFAR-10 dataset.  Your code must follow these rules:\n",
        "\n",
        "__- Use your own implementation.__\n",
        "\n",
        "__- You can only use \" tf \" and \" tf.nn \" libraries for version 1 (40 pts). Check [tf.nn](https://www.tensorflow.org/versions/r1.15/api_docs/python/tf/nn)__\n",
        "\n",
        "__- You can use \" tf.layers \" library for version 2 (20 pts). Check [tf.layers](https://www.tensorflow.org/versions/r1.15/api_docs/python/tf/layers)__\n",
        "\n",
        "__- Use ReLU activation function__\n",
        "\n",
        "__- Use batch normalization for convolutional layers__\n",
        "\n",
        "__- Use dropout for fully connected layers (for training only)__\n",
        "\n",
        "__- Write necessary explanations for each cell. Explanations should be detailed.__\n",
        "\n",
        "__- You can use codes from Lab Notebook.__\n",
        "\n",
        "__- (OPTIONAL) You can add more layers or use different methods for better accuracy. If you want, send an another notebook file with better accuracy for bonus points.__"
      ]
    },
    {
      "cell_type": "markdown",
      "metadata": {
        "id": "aQO9F0S_kCgV",
        "colab_type": "text"
      },
      "source": [
        "<img src=\"https://github.com/METU-MMI-DeepLearning/MMI713_Deep_Learning/blob/master/Assignment%202/model.png?raw=1\">"
      ]
    },
    {
      "cell_type": "markdown",
      "metadata": {
        "id": "3JZtWukIkCgW",
        "colab_type": "text"
      },
      "source": [
        "## Imports"
      ]
    },
    {
      "cell_type": "code",
      "metadata": {
        "id": "BWgeQ2RMkCgX",
        "colab_type": "code",
        "outputId": "869b7805-53c8-4d67-9a71-74c78c1f939b",
        "colab": {
          "base_uri": "https://localhost:8080/",
          "height": 102
        }
      },
      "source": [
        "%tensorflow_version 1.x\" before \"import tensorflow\n",
        "import tensorflow as tf\n",
        "import numpy as np\n",
        "import matplotlib.pyplot as plt\n",
        "from time import time\n",
        "%matplotlib inline"
      ],
      "execution_count": 1,
      "outputs": [
        {
          "output_type": "stream",
          "text": [
            "`%tensorflow_version` only switches the major version: 1.x or 2.x.\n",
            "You set: `1.x\" before \"import tensorflow`. This will be interpreted as: `1.x`.\n",
            "\n",
            "\n",
            "TensorFlow 1.x selected.\n"
          ],
          "name": "stdout"
        }
      ]
    },
    {
      "cell_type": "markdown",
      "metadata": {
        "id": "EMfvENEBkCgc",
        "colab_type": "text"
      },
      "source": [
        "## Load Data\n",
        "\n",
        "You can normalize input data \"x\" if needed. You can use \"np.squeeze\" to remove single-dimensional entries from the shape of an array. You probably need to convert labels \"y\" to one-hot vector for loss function."
      ]
    },
    {
      "cell_type": "markdown",
      "metadata": {
        "id": "cKYxMENq8PUX",
        "colab_type": "text"
      },
      "source": [
        "*Load* the CIFAR10 dataset"
      ]
    },
    {
      "cell_type": "code",
      "metadata": {
        "id": "GSMOjfErkCgc",
        "colab_type": "code",
        "colab": {}
      },
      "source": [
        "(x_train, y_train), (x_test, y_test) = tf.keras.datasets.cifar10.load_data()"
      ],
      "execution_count": 0,
      "outputs": []
    },
    {
      "cell_type": "markdown",
      "metadata": {
        "id": "xsKqrexu8SOo",
        "colab_type": "text"
      },
      "source": [
        "Normalize the x input data"
      ]
    },
    {
      "cell_type": "code",
      "metadata": {
        "id": "9Xeei7SM7m8m",
        "colab_type": "code",
        "outputId": "e84de768-2a02-4756-f661-d8267e938100",
        "colab": {
          "base_uri": "https://localhost:8080/",
          "height": 51
        }
      },
      "source": [
        "n_classes = 10\n",
        "\n",
        "X_train_mean = np.mean(x_train, axis=(0,1,2))\n",
        "X_train_std = np.std(x_train, axis=(0,1,2))\n",
        "x_train = (x_train - X_train_mean) / X_train_std\n",
        "x_test = (x_test - X_train_mean) / X_train_std\n",
        "\n",
        "print(\"x_train:\")\n",
        "print(x_train.shape)\n"
      ],
      "execution_count": 3,
      "outputs": [
        {
          "output_type": "stream",
          "text": [
            "x_train:\n",
            "(50000, 32, 32, 3)\n"
          ],
          "name": "stdout"
        }
      ]
    },
    {
      "cell_type": "markdown",
      "metadata": {
        "id": "BOHWO73O-Qy_",
        "colab_type": "text"
      },
      "source": [
        "Convert y data to one-hot vector form"
      ]
    },
    {
      "cell_type": "code",
      "metadata": {
        "id": "v_9Kfbnw-Lir",
        "colab_type": "code",
        "outputId": "4cd6da24-d131-44bf-bd37-369070144428",
        "colab": {
          "base_uri": "https://localhost:8080/",
          "height": 102
        }
      },
      "source": [
        "print(\"y_train:\")\n",
        "y_train = np.squeeze(y_train)\n",
        "y_train = np.eye(np.max(y_train) + 1)[y_train]\n",
        "print(y_train.shape)\n",
        "print(y_train[0])\n",
        "\n",
        "print(\"y_test:\")\n",
        "y_test = np.squeeze(y_test)\n",
        "y_test = np.eye(np.max(y_test) + 1)[y_test]\n",
        "print(y_test.shape)\n"
      ],
      "execution_count": 4,
      "outputs": [
        {
          "output_type": "stream",
          "text": [
            "y_train:\n",
            "(50000, 10)\n",
            "[0. 0. 0. 0. 0. 0. 1. 0. 0. 0.]\n",
            "y_test:\n",
            "(10000, 10)\n"
          ],
          "name": "stdout"
        }
      ]
    },
    {
      "cell_type": "markdown",
      "metadata": {
        "id": "oWuFjqn9kCgg",
        "colab_type": "text"
      },
      "source": [
        "## Define placeholders\n",
        "\n",
        "Define input and output placeholders. It is a good idea to pass dropout rate also as a placeholder."
      ]
    },
    {
      "cell_type": "markdown",
      "metadata": {
        "id": "Dmvhl3H2-Wf-",
        "colab_type": "text"
      },
      "source": [
        "We define the placeholder **x** for the input data with no specific number of samples but with dimensions of a single sample.\n",
        "We define **y** with no sample number either but with dimensions of a one-hot vector.\n",
        "**dropout** placeholder is the dropout rate for use to be able to specify the dropout rate during training and to disable the process during test time."
      ]
    },
    {
      "cell_type": "code",
      "metadata": {
        "id": "bIBLf3eKkCgg",
        "colab_type": "code",
        "colab": {}
      },
      "source": [
        "dropout_rate = 0.5\n",
        "\n",
        "x = tf.placeholder(tf.float32, [None, 32, 32, 3])\n",
        "y = tf.placeholder(tf.float32, [None, n_classes])\n",
        "dropout = tf.placeholder(tf.float32)"
      ],
      "execution_count": 0,
      "outputs": []
    },
    {
      "cell_type": "markdown",
      "metadata": {
        "id": "ws4bQ6kTkCgp",
        "colab_type": "text"
      },
      "source": [
        "## Define network\n",
        "\n",
        "Define the network as a function.Recommended functions are:\n",
        "\n",
        "`\n",
        "tf.nn.convolution / tf.nn.pool / tf.nn.batch_normalization / tf.nn.dropout / tf.reshape`"
      ]
    },
    {
      "cell_type": "markdown",
      "metadata": {
        "id": "sKkVIwDl-hjn",
        "colab_type": "text"
      },
      "source": [
        "The convolution layer method constituted by convolution, adding bias, batch normalziation and ReLU activation."
      ]
    },
    {
      "cell_type": "code",
      "metadata": {
        "id": "B_Q8qT01kCgp",
        "colab_type": "code",
        "colab": {}
      },
      "source": [
        "def conv_layer(x, output_channel, kernel_size=[5,5], strides=[1,1], padding=\"SAME\"):\n",
        "  x = tf.layers.conv2d(x,\n",
        "                       output_channel,\n",
        "                       kernel_size,\n",
        "                       strides,\n",
        "                       padding, \n",
        "                       activation=tf.nn.relu,\n",
        "                       use_bias=True, kernel_initializer=tf.glorot_normal_initializer(),\n",
        "                       trainable=True\n",
        "                       )\n",
        "  #x = tf.layers.batch_normalization(x, axis=1)\n",
        "  x = batch_norm(x, output_channel)\n",
        "  return x"
      ],
      "execution_count": 0,
      "outputs": []
    },
    {
      "cell_type": "markdown",
      "metadata": {
        "id": "-KC1s7zi__QA",
        "colab_type": "text"
      },
      "source": [
        "Max pooling layer using the tf.layers.max_pooling function with setting of max pooling"
      ]
    },
    {
      "cell_type": "code",
      "metadata": {
        "id": "qeAxkyF0lo51",
        "colab_type": "code",
        "colab": {}
      },
      "source": [
        "def maxpool_layer(x, window=[3,3], strides=[2,2], padding=\"SAME\"):\n",
        "  return tf.layers.max_pooling2d(x, window, strides, padding)\n"
      ],
      "execution_count": 0,
      "outputs": []
    },
    {
      "cell_type": "markdown",
      "metadata": {
        "id": "pkRZHPy1AEzP",
        "colab_type": "text"
      },
      "source": [
        "The definition of the CNN. It has convolution, max pooling and dense layers. "
      ]
    },
    {
      "cell_type": "code",
      "metadata": {
        "id": "dtUBOiQJmFtK",
        "colab_type": "code",
        "colab": {}
      },
      "source": [
        "\n",
        "def conv_net(x, dropout_rate):\n",
        "  \n",
        "  x = conv_layer(x, 32)\n",
        "  x = maxpool_layer(x)\n",
        "  x = conv_layer(x, 16)\n",
        "  x = maxpool_layer(x)\n",
        "  x = conv_layer(x, 32)\n",
        "  x = maxpool_layer(x)\n",
        "  \n",
        "  x = tf.layers.flatten(x)\n",
        "  \n",
        "  x = tf.layers.batch_normalization(x)\n",
        "  x = dense_layer(x, 128, dropout_rate, activation=tf.nn.relu)\n",
        "  logits = dense_layer(x, n_classes, dropout_rate, activation=None)\n",
        "  prediction = tf.nn.softmax(logits)\n",
        "\n",
        "  return logits, prediction\n"
      ],
      "execution_count": 0,
      "outputs": []
    },
    {
      "cell_type": "markdown",
      "metadata": {
        "id": "eEIkeDQdALjv",
        "colab_type": "text"
      },
      "source": [
        "The dense layer definition which does matrix multiplication with the input and the weights and adds the biases. Then, it applies activation and dropout in order."
      ]
    },
    {
      "cell_type": "code",
      "metadata": {
        "id": "aGfoJTYtZ-Aq",
        "colab_type": "code",
        "colab": {}
      },
      "source": [
        "def dense_layer(x, units, dropout, activation=tf.nn.relu):\n",
        "  if activation is None:\n",
        "    x = tf.layers.dense(x, units, kernel_initializer=tf.glorot_uniform_initializer(), trainable=True)\n",
        "  else :\n",
        "    x = tf.layers.dense(x, units, activation=activation, kernel_initializer=tf.glorot_uniform_initializer(), trainable=True)\n",
        "\n",
        "  x = tf.layers.dropout(x, rate=dropout)\n",
        "  \n",
        "\n",
        "  return x"
      ],
      "execution_count": 0,
      "outputs": []
    },
    {
      "cell_type": "markdown",
      "metadata": {
        "id": "YggLPWL8AOzG",
        "colab_type": "text"
      },
      "source": [
        "Batch normalization layer creates 2 variables every time it is used which are trainable. The batch of inputs is normalized by its mean and variance with the parametrized scaling factors. "
      ]
    },
    {
      "cell_type": "code",
      "metadata": {
        "id": "1Yug6W7VfLbQ",
        "colab_type": "code",
        "colab": {}
      },
      "source": [
        "def batch_norm(x, n_out):\n",
        "    beta = tf.Variable(tf.constant(0.0, shape=[n_out]), trainable=True)\n",
        "    gamma = tf.Variable(tf.constant(1.0, shape=[n_out]), trainable=True)\n",
        "    mean, var = tf.nn.moments(x, [0, 1, 2])\n",
        "    normed = tf.nn.batch_normalization(x, mean, var, beta, gamma, 1e-3)\n",
        "    return normed"
      ],
      "execution_count": 0,
      "outputs": []
    },
    {
      "cell_type": "markdown",
      "metadata": {
        "id": "-u7v82THARy6",
        "colab_type": "text"
      },
      "source": [
        "Define the CNN. Outputs are the logits and the spftmax outputs separated."
      ]
    },
    {
      "cell_type": "code",
      "metadata": {
        "id": "OH8saEAzZm-3",
        "colab_type": "code",
        "colab": {
          "base_uri": "https://localhost:8080/",
          "height": 394
        },
        "outputId": "abf1658c-b2bf-45ff-f0fe-6cf7a9687459"
      },
      "source": [
        "logits, prediction = conv_net(x, dropout)"
      ],
      "execution_count": 11,
      "outputs": [
        {
          "output_type": "stream",
          "text": [
            "WARNING:tensorflow:From <ipython-input-6-acabf10a95ff>:9: conv2d (from tensorflow.python.layers.convolutional) is deprecated and will be removed in a future version.\n",
            "Instructions for updating:\n",
            "Use `tf.keras.layers.Conv2D` instead.\n",
            "WARNING:tensorflow:From /tensorflow-1.15.2/python3.6/tensorflow_core/python/layers/convolutional.py:424: Layer.apply (from tensorflow.python.keras.engine.base_layer) is deprecated and will be removed in a future version.\n",
            "Instructions for updating:\n",
            "Please use `layer.__call__` method instead.\n",
            "WARNING:tensorflow:From <ipython-input-7-57dde7ef3fb5>:2: max_pooling2d (from tensorflow.python.layers.pooling) is deprecated and will be removed in a future version.\n",
            "Instructions for updating:\n",
            "Use keras.layers.MaxPooling2D instead.\n",
            "WARNING:tensorflow:From <ipython-input-8-637701918dd0>:11: flatten (from tensorflow.python.layers.core) is deprecated and will be removed in a future version.\n",
            "Instructions for updating:\n",
            "Use keras.layers.flatten instead.\n",
            "WARNING:tensorflow:From <ipython-input-8-637701918dd0>:13: batch_normalization (from tensorflow.python.layers.normalization) is deprecated and will be removed in a future version.\n",
            "Instructions for updating:\n",
            "Use keras.layers.BatchNormalization instead.  In particular, `tf.control_dependencies(tf.GraphKeys.UPDATE_OPS)` should not be used (consult the `tf.keras.layers.batch_normalization` documentation).\n",
            "WARNING:tensorflow:From <ipython-input-9-2659900ece9a>:5: dense (from tensorflow.python.layers.core) is deprecated and will be removed in a future version.\n",
            "Instructions for updating:\n",
            "Use keras.layers.Dense instead.\n",
            "WARNING:tensorflow:From <ipython-input-9-2659900ece9a>:7: dropout (from tensorflow.python.layers.core) is deprecated and will be removed in a future version.\n",
            "Instructions for updating:\n",
            "Use keras.layers.dropout instead.\n"
          ],
          "name": "stdout"
        }
      ]
    },
    {
      "cell_type": "markdown",
      "metadata": {
        "id": "CGeBNYfhkCgu",
        "colab_type": "text"
      },
      "source": [
        "## Define cost function\n",
        "\n",
        "Define cost with respect to predictions and labels."
      ]
    },
    {
      "cell_type": "markdown",
      "metadata": {
        "id": "9qdhkE3HAy1P",
        "colab_type": "text"
      },
      "source": [
        "Define the cost function as the cross entropy"
      ]
    },
    {
      "cell_type": "code",
      "metadata": {
        "id": "7fh0iF0tkCgu",
        "colab_type": "code",
        "colab": {
          "base_uri": "https://localhost:8080/",
          "height": 173
        },
        "outputId": "cb99c6c3-b8c2-4ec8-de14-4f1b5b5c3d97"
      },
      "source": [
        "cost = tf.reduce_mean(tf.nn.softmax_cross_entropy_with_logits(logits=logits, labels=y))\n",
        "# cost = tf.reduce_mean(tf.squared_difference(prediction, y))"
      ],
      "execution_count": 12,
      "outputs": [
        {
          "output_type": "stream",
          "text": [
            "WARNING:tensorflow:From <ipython-input-12-f3221ae63836>:1: softmax_cross_entropy_with_logits (from tensorflow.python.ops.nn_ops) is deprecated and will be removed in a future version.\n",
            "Instructions for updating:\n",
            "\n",
            "Future major versions of TensorFlow will allow gradients to flow\n",
            "into the labels input on backprop by default.\n",
            "\n",
            "See `tf.nn.softmax_cross_entropy_with_logits_v2`.\n",
            "\n"
          ],
          "name": "stdout"
        }
      ]
    },
    {
      "cell_type": "markdown",
      "metadata": {
        "id": "VoDeYUuEkCgy",
        "colab_type": "text"
      },
      "source": [
        "## Define optimizer\n",
        "\n",
        "Adam is recommended"
      ]
    },
    {
      "cell_type": "markdown",
      "metadata": {
        "id": "Hnv-GbKcA09W",
        "colab_type": "text"
      },
      "source": [
        "Define the optimizer as Adam Optimizer"
      ]
    },
    {
      "cell_type": "code",
      "metadata": {
        "id": "melxVSfhkCgy",
        "colab_type": "code",
        "colab": {}
      },
      "source": [
        "optimizer = tf.train.AdamOptimizer().minimize(cost)\n",
        "#optimizer = tf.train.GradientDescentOptimizer(learning_rate=0.01).minimize(cost) "
      ],
      "execution_count": 0,
      "outputs": []
    },
    {
      "cell_type": "markdown",
      "metadata": {
        "id": "QOacmPeokCg2",
        "colab_type": "text"
      },
      "source": [
        "## Define performance measures"
      ]
    },
    {
      "cell_type": "markdown",
      "metadata": {
        "id": "TrNHm06lA3o3",
        "colab_type": "text"
      },
      "source": [
        "The find the number of correct predictions and calculate the overall accuracy"
      ]
    },
    {
      "cell_type": "code",
      "metadata": {
        "id": "eKNDvGpQkCg3",
        "colab_type": "code",
        "colab": {}
      },
      "source": [
        "correct_prediction = tf.equal(tf.argmax(prediction, axis=1), tf.argmax(y, axis=1))\n",
        "accuracy = tf.reduce_mean(tf.cast(correct_prediction, tf.float32))"
      ],
      "execution_count": 0,
      "outputs": []
    },
    {
      "cell_type": "markdown",
      "metadata": {
        "id": "1pmGstWmkCg6",
        "colab_type": "text"
      },
      "source": [
        "## Create TensorFlow session\n"
      ]
    },
    {
      "cell_type": "code",
      "metadata": {
        "id": "EZJ2PnrikCg6",
        "colab_type": "code",
        "colab": {}
      },
      "source": [
        "session = tf.Session()"
      ],
      "execution_count": 0,
      "outputs": []
    },
    {
      "cell_type": "markdown",
      "metadata": {
        "id": "ef_wSBuokChA",
        "colab_type": "text"
      },
      "source": [
        "## Initialize variables\n",
        "\n",
        "The variables for `weights`,`filters` and `biases` must be initialized before we start optimizing them."
      ]
    },
    {
      "cell_type": "code",
      "metadata": {
        "id": "dpqIeys5kChA",
        "colab_type": "code",
        "colab": {
          "base_uri": "https://localhost:8080/",
          "height": 88
        },
        "outputId": "8668f9d3-5634-48b3-eb80-1cce8a9880bd"
      },
      "source": [
        "init = tf.initialize_all_variables()\n",
        "session.run(init)"
      ],
      "execution_count": 16,
      "outputs": [
        {
          "output_type": "stream",
          "text": [
            "WARNING:tensorflow:From /tensorflow-1.15.2/python3.6/tensorflow_core/python/util/tf_should_use.py:198: initialize_all_variables (from tensorflow.python.ops.variables) is deprecated and will be removed after 2017-03-02.\n",
            "Instructions for updating:\n",
            "Use `tf.global_variables_initializer` instead.\n"
          ],
          "name": "stdout"
        }
      ]
    },
    {
      "cell_type": "markdown",
      "metadata": {
        "id": "sc03nx8ukChD",
        "colab_type": "text"
      },
      "source": [
        "## Define train function\n",
        "\n",
        "Don't forget to use batches since dataset is large."
      ]
    },
    {
      "cell_type": "markdown",
      "metadata": {
        "id": "fy4u59LDkChD",
        "colab_type": "text"
      },
      "source": [
        "Hint : One of the simplest way to define batch is\n",
        "\n",
        "`for b in range(dataset_size//batch_size):      \n",
        "    x_batch = x_train[b * batch_size : (b+1) * batch_size]`"
      ]
    },
    {
      "cell_type": "code",
      "metadata": {
        "id": "Og0ML2U5_nEn",
        "colab_type": "code",
        "colab": {}
      },
      "source": [
        "train_accuracy_on_epoch = []\n",
        "train_loss_on_epoch = []\n",
        "\n",
        "test_accuracy_on_epoch = []\n",
        "test_loss_on_epoch = []\n",
        "\n"
      ],
      "execution_count": 0,
      "outputs": []
    },
    {
      "cell_type": "markdown",
      "metadata": {
        "id": "vWiZdZQPA927",
        "colab_type": "text"
      },
      "source": [
        "The train function that inputs a batch to the network and gets the accuracy and loss. Then, at the end of each batch, it runs the network with the test set."
      ]
    },
    {
      "cell_type": "code",
      "metadata": {
        "id": "9I7PNilCkChE",
        "colab_type": "code",
        "colab": {}
      },
      "source": [
        "\n",
        "def train(epoch_num, batch_size):\n",
        "  for i in range(epoch_num):\n",
        "    batch_loss = []\n",
        "    batch_acc = []\n",
        "    for b in range(len(x_train)//batch_size): \n",
        "      x_batch = x_train[b * batch_size : (b+1) * batch_size]  \n",
        "      y_batch = y_train[b * batch_size : (b+1) * batch_size]\n",
        "      _, acc, loss, p = session.run([optimizer, accuracy, cost, prediction], feed_dict={x:x_batch, y: y_batch, dropout:dropout_rate})\n",
        "      batch_loss.append(loss)\n",
        "      batch_acc.append(acc)\n",
        "    #print(p)\n",
        "    train_accuracy_on_epoch.append(np.mean(np.array(batch_acc)))\n",
        "    train_loss_on_epoch.append(np.mean(np.array(batch_loss)))\n",
        "    \n",
        "    acc, loss = test(x_test, y_test, i+1)\n",
        "    test_accuracy_on_epoch.append(acc)\n",
        "    test_loss_on_epoch.append(loss)\n",
        "    \n",
        "\n"
      ],
      "execution_count": 0,
      "outputs": []
    },
    {
      "cell_type": "markdown",
      "metadata": {
        "id": "v_U44nWwkChH",
        "colab_type": "text"
      },
      "source": [
        "## Define test function"
      ]
    },
    {
      "cell_type": "markdown",
      "metadata": {
        "id": "3ktQWJbNBAO2",
        "colab_type": "text"
      },
      "source": [
        "The test function taht feeds the test set to the network. We specify dropout to be 1.0 to avoid it."
      ]
    },
    {
      "cell_type": "code",
      "metadata": {
        "id": "IBVgCRafkChH",
        "colab_type": "code",
        "colab": {}
      },
      "source": [
        "\n",
        "def test(x_set, y_set, epoch_no):\n",
        "  test_acc, loss, p = session.run([accuracy, cost, prediction], feed_dict={x: x_set, y: y_set, dropout:0})\n",
        "  print(\"Epoch:{} Accuracy:{} Loss:{} \".format(epoch_no, test_acc, loss))\n",
        "  #print(p)\n",
        "  return test_acc, loss\n",
        "  "
      ],
      "execution_count": 0,
      "outputs": []
    },
    {
      "cell_type": "markdown",
      "metadata": {
        "id": "m0w-x1jokChK",
        "colab_type": "text"
      },
      "source": [
        "## Performance before training\n",
        "\n",
        "The accuracy is expected to be around 10%"
      ]
    },
    {
      "cell_type": "code",
      "metadata": {
        "id": "JFNpQ0rGkChK",
        "colab_type": "code",
        "outputId": "8bec3132-a297-4660-e6ce-51e469e53b67",
        "colab": {
          "base_uri": "https://localhost:8080/",
          "height": 34
        }
      },
      "source": [
        "acc, loss = test(x_test, y_test, 0)"
      ],
      "execution_count": 20,
      "outputs": [
        {
          "output_type": "stream",
          "text": [
            "Epoch:0 Accuracy:0.13249999284744263 Loss:3.363022565841675 \n"
          ],
          "name": "stdout"
        }
      ]
    },
    {
      "cell_type": "markdown",
      "metadata": {
        "id": "Sdxj_oc_kChN",
        "colab_type": "text"
      },
      "source": [
        "## Performance after training\n",
        "\n",
        "Measure training and test accuracy for at least 10 epochs, show it on a epoch/accuracy graph. The network is expected to reach around 70% accuracy at 10 epochs. "
      ]
    },
    {
      "cell_type": "code",
      "metadata": {
        "id": "NoX274wlkChO",
        "colab_type": "code",
        "outputId": "2ea0d5e7-0325-47db-f69e-c1dd237f9b21",
        "colab": {
          "base_uri": "https://localhost:8080/",
          "height": 904
        }
      },
      "source": [
        "epoch_number = 50\n",
        "batch_size = 1000\n",
        "start_time = time()\n",
        "train(epoch_number, batch_size)\n",
        "end_time = time()\n",
        "print(\"Took {} seconds to train for {} epochs with batch size {}. Time consumed for 1 epochs is {} seconds\".format(end_time - start_time, epoch_number, batch_size, (end_time - start_time)/epoch_number))"
      ],
      "execution_count": 21,
      "outputs": [
        {
          "output_type": "stream",
          "text": [
            "Epoch:1 Accuracy:0.5145999789237976 Loss:1.3562874794006348 \n",
            "Epoch:2 Accuracy:0.5760999917984009 Loss:1.1724324226379395 \n",
            "Epoch:3 Accuracy:0.6201000213623047 Loss:1.0696786642074585 \n",
            "Epoch:4 Accuracy:0.6478000283241272 Loss:0.9978162050247192 \n",
            "Epoch:5 Accuracy:0.6561999917030334 Loss:0.9734954833984375 \n",
            "Epoch:6 Accuracy:0.6636999845504761 Loss:0.9535968899726868 \n",
            "Epoch:7 Accuracy:0.6748999953269958 Loss:0.9243316650390625 \n",
            "Epoch:8 Accuracy:0.6825000047683716 Loss:0.9065669775009155 \n",
            "Epoch:9 Accuracy:0.6919000148773193 Loss:0.8775367140769958 \n",
            "Epoch:10 Accuracy:0.6912000179290771 Loss:0.8930172920227051 \n",
            "Epoch:11 Accuracy:0.6942999958992004 Loss:0.8919121026992798 \n",
            "Epoch:12 Accuracy:0.6947000026702881 Loss:0.8936574459075928 \n",
            "Epoch:13 Accuracy:0.701200008392334 Loss:0.890246570110321 \n",
            "Epoch:14 Accuracy:0.697700023651123 Loss:0.8982469439506531 \n",
            "Epoch:15 Accuracy:0.6955999732017517 Loss:0.9081863164901733 \n",
            "Epoch:16 Accuracy:0.6930999755859375 Loss:0.9201202988624573 \n",
            "Epoch:17 Accuracy:0.7027000188827515 Loss:0.9108314514160156 \n",
            "Epoch:18 Accuracy:0.7067000269889832 Loss:0.9002482295036316 \n",
            "Epoch:19 Accuracy:0.7074000239372253 Loss:0.9196426868438721 \n",
            "Epoch:20 Accuracy:0.701200008392334 Loss:0.9426416754722595 \n",
            "Epoch:21 Accuracy:0.6995000243186951 Loss:0.9643046855926514 \n",
            "Epoch:22 Accuracy:0.6952000260353088 Loss:0.9899342060089111 \n",
            "Epoch:23 Accuracy:0.6972000002861023 Loss:0.9810259938240051 \n",
            "Epoch:24 Accuracy:0.6920999884605408 Loss:1.0133312940597534 \n",
            "Epoch:25 Accuracy:0.6933000087738037 Loss:1.0350862741470337 \n",
            "Epoch:26 Accuracy:0.6998000144958496 Loss:1.020957350730896 \n",
            "Epoch:27 Accuracy:0.6966000199317932 Loss:1.0484153032302856 \n",
            "Epoch:28 Accuracy:0.705299973487854 Loss:1.029918909072876 \n",
            "Epoch:29 Accuracy:0.7009999752044678 Loss:1.0379809141159058 \n",
            "Epoch:30 Accuracy:0.6960999965667725 Loss:1.0641688108444214 \n",
            "Epoch:31 Accuracy:0.6998999714851379 Loss:1.0859376192092896 \n",
            "Epoch:32 Accuracy:0.6984000205993652 Loss:1.0992447137832642 \n",
            "Epoch:33 Accuracy:0.7035999894142151 Loss:1.1099035739898682 \n",
            "Epoch:34 Accuracy:0.7020999789237976 Loss:1.1274244785308838 \n",
            "Epoch:35 Accuracy:0.6935999989509583 Loss:1.1634997129440308 \n",
            "Epoch:36 Accuracy:0.6881999969482422 Loss:1.2128710746765137 \n",
            "Epoch:37 Accuracy:0.6886000037193298 Loss:1.246962070465088 \n",
            "Epoch:38 Accuracy:0.6934000253677368 Loss:1.2254035472869873 \n",
            "Epoch:39 Accuracy:0.6990000009536743 Loss:1.237383246421814 \n",
            "Epoch:40 Accuracy:0.7017999887466431 Loss:1.247813105583191 \n",
            "Epoch:41 Accuracy:0.6973999738693237 Loss:1.2740432024002075 \n",
            "Epoch:42 Accuracy:0.6945000290870667 Loss:1.3214998245239258 \n",
            "Epoch:43 Accuracy:0.6940000057220459 Loss:1.2998173236846924 \n",
            "Epoch:44 Accuracy:0.6881999969482422 Loss:1.320454716682434 \n",
            "Epoch:45 Accuracy:0.6841999888420105 Loss:1.359034776687622 \n",
            "Epoch:46 Accuracy:0.6761999726295471 Loss:1.4212586879730225 \n",
            "Epoch:47 Accuracy:0.6751000285148621 Loss:1.4560474157333374 \n",
            "Epoch:48 Accuracy:0.6901999711990356 Loss:1.3876863718032837 \n",
            "Epoch:49 Accuracy:0.6955000162124634 Loss:1.3462191820144653 \n",
            "Epoch:50 Accuracy:0.6980000138282776 Loss:1.3678240776062012 \n",
            "Took 276.7991166114807 seconds to train for 50 epochs with batch size 1000. Time consumed for 1 epochs is 5.535982332229614 seconds\n"
          ],
          "name": "stdout"
        }
      ]
    },
    {
      "cell_type": "code",
      "metadata": {
        "id": "F0ZIlN3q_7h1",
        "colab_type": "code",
        "outputId": "e4a46194-8eb4-4a32-a3c0-93e063104be6",
        "colab": {
          "base_uri": "https://localhost:8080/",
          "height": 607
        }
      },
      "source": [
        "plt.plot(train_accuracy_on_epoch)\n",
        "plt.xlabel(\"Epoch\")\n",
        "plt.ylabel(\"Accuracy\")\n",
        "plt.ylim(top=1.0, bottom=0.0)\n",
        "plt.title(\"Accuracy plot\")\n",
        "plt.show()\n",
        "print(\"Accuracy on train-set: {0:.1%}\".format(train_accuracy_on_epoch[-1]))\n",
        "\n",
        "plt.plot(train_loss_on_epoch)\n",
        "plt.xlabel(\"Epoch\")\n",
        "plt.ylabel(\"Loss\")\n",
        "plt.title(\"Loss plot\")\n",
        "plt.show()\n",
        "print(\"Loss on train-set: {}\".format(train_loss_on_epoch[-1]))"
      ],
      "execution_count": 22,
      "outputs": [
        {
          "output_type": "display_data",
          "data": {
            "image/png": "[encoded data removed]",
            "text/plain": [
              "<Figure size 432x288 with 1 Axes>"
            ]
          },
          "metadata": {
            "tags": [],
            "needs_background": "light"
          }
        },
        {
          "output_type": "stream",
          "text": [
            "Accuracy on train-set: 92.3%\n"
          ],
          "name": "stdout"
        },
        {
          "output_type": "display_data",
          "data": {
            "image/png": "[encoded data removed]",
            "text/plain": [
              "<Figure size 432x288 with 1 Axes>"
            ]
          },
          "metadata": {
            "tags": [],
            "needs_background": "light"
          }
        },
        {
          "output_type": "stream",
          "text": [
            "Loss on train-set: 0.21165910363197327\n"
          ],
          "name": "stdout"
        }
      ]
    },
    {
      "cell_type": "code",
      "metadata": {
        "id": "RqJVU25yAm9Z",
        "colab_type": "code",
        "outputId": "f688bd76-5214-4667-ad3c-43e6d523ce99",
        "colab": {
          "base_uri": "https://localhost:8080/",
          "height": 607
        }
      },
      "source": [
        "plt.plot(test_accuracy_on_epoch)\n",
        "plt.xlabel(\"Epoch\")\n",
        "plt.ylabel(\"Accuracy\")\n",
        "plt.ylim(top=1.0, bottom=0.0)\n",
        "plt.title(\"Accuracy plot\")\n",
        "plt.show()\n",
        "print(\"Accuracy on test-set: {0:.1%}\".format(test_accuracy_on_epoch[-1]))\n",
        "\n",
        "plt.plot(test_loss_on_epoch)\n",
        "plt.xlabel(\"Epoch\")\n",
        "plt.ylabel(\"Loss\")\n",
        "plt.title(\"Loss plot\")\n",
        "plt.show()\n",
        "print(\"Loss on test-set: {}\".format(test_loss_on_epoch[-1]))\n"
      ],
      "execution_count": 23,
      "outputs": [
        {
          "output_type": "display_data",
          "data": {
            "image/png": "[encoded data removed]",
            "text/plain": [
              "<Figure size 432x288 with 1 Axes>"
            ]
          },
          "metadata": {
            "tags": [],
            "needs_background": "light"
          }
        },
        {
          "output_type": "stream",
          "text": [
            "Accuracy on test-set: 69.8%\n"
          ],
          "name": "stdout"
        },
        {
          "output_type": "display_data",
          "data": {
            "image/png": "[encoded data removed]",
            "text/plain": [
              "<Figure size 432x288 with 1 Axes>"
            ]
          },
          "metadata": {
            "tags": [],
            "needs_background": "light"
          }
        },
        {
          "output_type": "stream",
          "text": [
            "Loss on test-set: 1.3678240776062012\n"
          ],
          "name": "stdout"
        }
      ]
    },
    {
      "cell_type": "markdown",
      "metadata": {
        "id": "JA2Q2P1fkChQ",
        "colab_type": "text"
      },
      "source": [
        "## Close the session"
      ]
    },
    {
      "cell_type": "code",
      "metadata": {
        "id": "Tul41j-UkChR",
        "colab_type": "code",
        "colab": {}
      },
      "source": [
        "session.close()"
      ],
      "execution_count": 0,
      "outputs": []
    },
    {
      "cell_type": "markdown",
      "metadata": {
        "id": "bOIOZ5CCkChb",
        "colab_type": "text"
      },
      "source": [
        "## Discussion"
      ]
    },
    {
      "cell_type": "markdown",
      "metadata": {
        "id": "AAGjsf3fkChc",
        "colab_type": "text"
      },
      "source": [
        "In this part of the assignment, I have used the tf.layers, tf.nn and tf libraries to implement a CNN to classify the images of the CIFAR10 dataset. The network contains several types of layers:\n",
        "\n",
        "*   Convolutional Layers\n",
        "*   Max Pooling Layers\n",
        "*   Batch Normalization Layers\n",
        "*   Flattening Layer\n",
        "*   Fully Connected Layers\n",
        "*   Dropout Layers\n",
        "\n",
        "All the weights of the network are initialized with Xavier initialization method which seems to perform considerably better compared to the random uniform or random normal initializations. The convolutional layers are always followed by adding bias, batch normalization and ReLU activation. The batch normalization normalizes the batch of activations to a 0 mean and 1 variance which fights the internal covariate shift. It also makes the network faster and on top of all regularizes the tensor which can make finding correlations easier. The max pooling layers subsample the activations taken from the convolutional layers, who change the depth of the activation maps by having different numbers of kernels. The feature extraction part of the network is constituted by 3 convolutional and 3 max pooling layers. The classification is done inside a fully connected neural network which starts with the flattening layer which flattens the activation map taken from the last pooling layer of the feature extraction. The dense network contains one hidden layer that also contains a dropout layer which randomly deactivates neurons to prevent overfitting, by letting the network to find different paths to a decision. The last layer applies softmax activation to the logits and gives the predictions. As the cost function, cross entropy was chosen. The learning process was set to minimize this cost function with the help of the Adam optimizer. \n",
        "\n",
        "Using tf.layers library has its pros and cons. This library is a slightly higher library than the tf.nn altough I personally like converting the low level API to a slightly higher level. Also, this library seems to be more optimized than tf.nn as I got more consistent accuracies in 10 epochs compared to the varying accuracies of tf.nn. I mostly got 70% after each training with 10 epochs. However, training and infering with this library seems to be much slower than the lower level one. Time consumption of training with one epoch is around 5.5s which is more than twice of the training time consumption of tf.nn. I have also realized that using the batch normalization layer given by this library is much easier to use than tf.nn.batch_normalization function since it gives default values tot he normalization parameters. However, I saw that rather than using these default parameters, making them trainable parameters of the network provides better results, by having a small overhead. The main problem I have faced was that despite having the exact same architecture and same number of paramters as the network I have built in the previous part, this network seems to have a smaller learning capacity, such that after around 20 epochs the test accuracy gets stuck around 70-71% With a 150 epochs of training, while the training accuracy went to 100%, the test accuracy still got stuck at 70%. Also, the test loss diverges after 18th epoch. This is a clear indication of overfitting on the train set. But it is interesting how the same parameters can give vastly different  And considering that the inference time is considerably longer than the low level API, it can be argued that using this high-level API almost seems redundant. \n",
        "\n",
        "I saw that using the higher level libraries do not necessarily give the most optimized results. Ease of implementation is a big advantage considering the fact that the implementaiton of deep networks can easily get confusing and hard to keep track of; however, it is crucial to first know the basics of the high level APIs."
      ]
    },
    {
      "cell_type": "markdown",
      "metadata": {
        "id": "B0gHtAc6kChd",
        "colab_type": "text"
      },
      "source": [
        "## References\n",
        "\n",
        "[1] [Arm Community](https://community.arm.com)"
      ]
    }
  ]
}