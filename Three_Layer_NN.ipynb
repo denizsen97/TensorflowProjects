{
  "nbformat": 4,
  "nbformat_minor": 0,
  "metadata": {
    "anaconda-cloud": {},
    "kernelspec": {
      "name": "python3",
      "display_name": "Python 3"
    },
    "language_info": {
      "codemirror_mode": {
        "name": "ipython",
        "version": 3
      },
      "file_extension": ".py",
      "mimetype": "text/x-python",
      "name": "python",
      "nbconvert_exporter": "python",
      "pygments_lexer": "ipython3",
      "version": "3.6.3"
    },
    "colab": {
      "name": "3cLab1.ipynb",
      "provenance": [],
      "collapsed_sections": []
    },
    "accelerator": "GPU"
  },
  "cells": [
    {
      "cell_type": "markdown",
      "metadata": {
        "id": "nlnM9GkTQMgo",
        "colab_type": "text"
      },
      "source": [
        "# LAB #1 Question 3a\n",
        "In this notebook, we are trying to add a layer to the 2 layer fully connected network from the previous part.\n",
        "\n"
      ]
    },
    {
      "cell_type": "code",
      "metadata": {
        "id": "MLj9nPv6QMgu",
        "colab_type": "code",
        "outputId": "d6f671c9-6e7f-4244-c316-567653f8d2bb",
        "colab": {
          "base_uri": "https://localhost:8080/",
          "height": 80
        }
      },
      "source": [
        "import tensorflow as tf\n",
        "import numpy as np\n",
        "import matplotlib.pyplot as plt\n",
        "import time\n",
        "%matplotlib inline"
      ],
      "execution_count": 0,
      "outputs": [
        {
          "output_type": "display_data",
          "data": {
            "text/html": [
              "<p style=\"color: red;\">\n",
              "The default version of TensorFlow in Colab will soon switch to TensorFlow 2.x.<br>\n",
              "We recommend you <a href=\"https://www.tensorflow.org/guide/migrate\" target=\"_blank\">upgrade</a> now \n",
              "or ensure your notebook will continue to use TensorFlow 1.x via the <code>%tensorflow_version 1.x</code> magic:\n",
              "<a href=\"https://colab.research.google.com/notebooks/tensorflow_version.ipynb\" target=\"_blank\">more info</a>.</p>\n"
            ],
            "text/plain": [
              "<IPython.core.display.HTML object>"
            ]
          },
          "metadata": {
            "tags": []
          }
        }
      ]
    },
    {
      "cell_type": "code",
      "metadata": {
        "id": "xkIhQTADQMgz",
        "colab_type": "code",
        "outputId": "17c93575-99cd-4a0a-e438-1d518518cf3f",
        "colab": {
          "base_uri": "https://localhost:8080/",
          "height": 34
        }
      },
      "source": [
        "tf.__version__"
      ],
      "execution_count": 0,
      "outputs": [
        {
          "output_type": "execute_result",
          "data": {
            "text/plain": [
              "'1.15.0'"
            ]
          },
          "metadata": {
            "tags": []
          },
          "execution_count": 2
        }
      ]
    },
    {
      "cell_type": "markdown",
      "metadata": {
        "id": "hZxem93UQMg4",
        "colab_type": "text"
      },
      "source": [
        "## Load Data"
      ]
    },
    {
      "cell_type": "code",
      "metadata": {
        "id": "0LEgSjZlQMg6",
        "colab_type": "code",
        "outputId": "ffe5ec01-fd33-499d-ea08-86fc3e92c611",
        "colab": {
          "base_uri": "https://localhost:8080/",
          "height": 411
        }
      },
      "source": [
        "from tensorflow.examples.tutorials.mnist import input_data\n",
        "data = input_data.read_data_sets(\"data/MNIST/\", one_hot=True)"
      ],
      "execution_count": 0,
      "outputs": [
        {
          "output_type": "stream",
          "text": [
            "WARNING:tensorflow:From <ipython-input-3-d748032e7ab8>:2: read_data_sets (from tensorflow.contrib.learn.python.learn.datasets.mnist) is deprecated and will be removed in a future version.\n",
            "Instructions for updating:\n",
            "Please use alternatives such as official/mnist/dataset.py from tensorflow/models.\n",
            "WARNING:tensorflow:From /usr/local/lib/python3.6/dist-packages/tensorflow_core/contrib/learn/python/learn/datasets/mnist.py:260: maybe_download (from tensorflow.contrib.learn.python.learn.datasets.base) is deprecated and will be removed in a future version.\n",
            "Instructions for updating:\n",
            "Please write your own downloading logic.\n",
            "WARNING:tensorflow:From /usr/local/lib/python3.6/dist-packages/tensorflow_core/contrib/learn/python/learn/datasets/mnist.py:262: extract_images (from tensorflow.contrib.learn.python.learn.datasets.mnist) is deprecated and will be removed in a future version.\n",
            "Instructions for updating:\n",
            "Please use tf.data to implement this functionality.\n",
            "Extracting data/MNIST/train-images-idx3-ubyte.gz\n",
            "WARNING:tensorflow:From /usr/local/lib/python3.6/dist-packages/tensorflow_core/contrib/learn/python/learn/datasets/mnist.py:267: extract_labels (from tensorflow.contrib.learn.python.learn.datasets.mnist) is deprecated and will be removed in a future version.\n",
            "Instructions for updating:\n",
            "Please use tf.data to implement this functionality.\n",
            "Extracting data/MNIST/train-labels-idx1-ubyte.gz\n",
            "WARNING:tensorflow:From /usr/local/lib/python3.6/dist-packages/tensorflow_core/contrib/learn/python/learn/datasets/mnist.py:110: dense_to_one_hot (from tensorflow.contrib.learn.python.learn.datasets.mnist) is deprecated and will be removed in a future version.\n",
            "Instructions for updating:\n",
            "Please use tf.one_hot on tensors.\n",
            "Extracting data/MNIST/t10k-images-idx3-ubyte.gz\n",
            "Extracting data/MNIST/t10k-labels-idx1-ubyte.gz\n",
            "WARNING:tensorflow:From /usr/local/lib/python3.6/dist-packages/tensorflow_core/contrib/learn/python/learn/datasets/mnist.py:290: DataSet.__init__ (from tensorflow.contrib.learn.python.learn.datasets.mnist) is deprecated and will be removed in a future version.\n",
            "Instructions for updating:\n",
            "Please use alternatives such as official/mnist/dataset.py from tensorflow/models.\n"
          ],
          "name": "stdout"
        }
      ]
    },
    {
      "cell_type": "code",
      "metadata": {
        "id": "MmHU1wt9QMg-",
        "colab_type": "code",
        "outputId": "3aacf7de-dc97-4c01-aa3d-b98831c014d8",
        "colab": {
          "base_uri": "https://localhost:8080/",
          "height": 34
        }
      },
      "source": [
        "len(data.train.images) # Train image count"
      ],
      "execution_count": 0,
      "outputs": [
        {
          "output_type": "execute_result",
          "data": {
            "text/plain": [
              "55000"
            ]
          },
          "metadata": {
            "tags": []
          },
          "execution_count": 4
        }
      ]
    },
    {
      "cell_type": "code",
      "metadata": {
        "id": "s0NRMOAmQMhC",
        "colab_type": "code",
        "outputId": "d261553a-8e26-4de0-fb7a-b29fbdbfc878",
        "colab": {
          "base_uri": "https://localhost:8080/",
          "height": 34
        }
      },
      "source": [
        "len(data.test.images) # Test image count"
      ],
      "execution_count": 0,
      "outputs": [
        {
          "output_type": "execute_result",
          "data": {
            "text/plain": [
              "10000"
            ]
          },
          "metadata": {
            "tags": []
          },
          "execution_count": 5
        }
      ]
    },
    {
      "cell_type": "markdown",
      "metadata": {
        "id": "MDy2OA5gQMhG",
        "colab_type": "text"
      },
      "source": [
        "### One-Hot Encoding"
      ]
    },
    {
      "cell_type": "code",
      "metadata": {
        "id": "9mNz4P59QMhI",
        "colab_type": "code",
        "outputId": "aaff015c-ffcd-44ca-ce52-67f8dc747196",
        "colab": {
          "base_uri": "https://localhost:8080/",
          "height": 102
        }
      },
      "source": [
        "data.test.labels[0:5, :]"
      ],
      "execution_count": 0,
      "outputs": [
        {
          "output_type": "execute_result",
          "data": {
            "text/plain": [
              "array([[0., 0., 0., 0., 0., 0., 0., 1., 0., 0.],\n",
              "       [0., 0., 1., 0., 0., 0., 0., 0., 0., 0.],\n",
              "       [0., 1., 0., 0., 0., 0., 0., 0., 0., 0.],\n",
              "       [1., 0., 0., 0., 0., 0., 0., 0., 0., 0.],\n",
              "       [0., 0., 0., 0., 1., 0., 0., 0., 0., 0.]])"
            ]
          },
          "metadata": {
            "tags": []
          },
          "execution_count": 6
        }
      ]
    },
    {
      "cell_type": "code",
      "metadata": {
        "id": "W_MTe2spQMhM",
        "colab_type": "code",
        "colab": {}
      },
      "source": [
        "data.test.cls = np.array([label.argmax() for label in data.test.labels])"
      ],
      "execution_count": 0,
      "outputs": []
    },
    {
      "cell_type": "code",
      "metadata": {
        "id": "eWwuRyHAQMhR",
        "colab_type": "code",
        "outputId": "d5c03ebb-5c83-48cd-fc9c-164e5d36ba0d",
        "colab": {
          "base_uri": "https://localhost:8080/",
          "height": 34
        }
      },
      "source": [
        "data.test.cls[0:5]"
      ],
      "execution_count": 0,
      "outputs": [
        {
          "output_type": "execute_result",
          "data": {
            "text/plain": [
              "array([7, 2, 1, 0, 4])"
            ]
          },
          "metadata": {
            "tags": []
          },
          "execution_count": 8
        }
      ]
    },
    {
      "cell_type": "markdown",
      "metadata": {
        "id": "QtKoIMgSQMhU",
        "colab_type": "text"
      },
      "source": [
        "### Data dimensions"
      ]
    },
    {
      "cell_type": "code",
      "metadata": {
        "id": "PzWR7AvDQMhW",
        "colab_type": "code",
        "colab": {}
      },
      "source": [
        "# We know that MNIST images are 28 pixels in each dimension.\n",
        "img_size = 28\n",
        "\n",
        "# Images are stored in one-dimensional arrays of this length.\n",
        "img_size_flat = img_size * img_size\n",
        "\n",
        "# Tuple with height and width of images used to reshape arrays.\n",
        "img_shape = (img_size, img_size)\n",
        "\n",
        "# Number of classes, one class for each of 10 digits.\n",
        "num_classes = 10"
      ],
      "execution_count": 0,
      "outputs": []
    },
    {
      "cell_type": "markdown",
      "metadata": {
        "id": "Tb1e5ls-QMha",
        "colab_type": "text"
      },
      "source": [
        "### Plot a few images to see if data is correct"
      ]
    },
    {
      "cell_type": "code",
      "metadata": {
        "id": "gaKJxYHQQMhc",
        "colab_type": "code",
        "outputId": "01d88ad6-43ec-4cf9-dd7e-584d0ca1c168",
        "colab": {
          "base_uri": "https://localhost:8080/",
          "height": 282
        }
      },
      "source": [
        "# Sample to plot\n",
        "sample = 0\n",
        "\n",
        "# Reshape sample from 784 to 28x28\n",
        "reshaped_sample = np.reshape(data.train.images[sample], newshape=(28,28)) \n",
        "\n",
        "# Plot reshaped sample image using grayscale color map\n",
        "plt.imshow(reshaped_sample, cmap=\"gray\") \n",
        "\n",
        "# Print true sample class\n",
        "print (data.train.labels[sample]) "
      ],
      "execution_count": 0,
      "outputs": [
        {
          "output_type": "stream",
          "text": [
            "[0. 0. 0. 0. 0. 0. 0. 1. 0. 0.]\n"
          ],
          "name": "stdout"
        },
        {
          "output_type": "display_data",
          "data": {
            "image/png": "[encoded data removed]",
            "text/plain": [
              "<Figure size 432x288 with 1 Axes>"
            ]
          },
          "metadata": {
            "tags": []
          }
        }
      ]
    },
    {
      "cell_type": "markdown",
      "metadata": {
        "id": "kMBQMZtfQMhg",
        "colab_type": "text"
      },
      "source": [
        "### Placeholder variables"
      ]
    },
    {
      "cell_type": "code",
      "metadata": {
        "id": "kpHTbktwQMhj",
        "colab_type": "code",
        "colab": {}
      },
      "source": [
        "x = tf.placeholder(tf.float32, [None, img_size_flat])"
      ],
      "execution_count": 0,
      "outputs": []
    },
    {
      "cell_type": "code",
      "metadata": {
        "id": "p8W_4X1fQMhn",
        "colab_type": "code",
        "colab": {}
      },
      "source": [
        "y_true = tf.placeholder(tf.float32, [None, num_classes])"
      ],
      "execution_count": 0,
      "outputs": []
    },
    {
      "cell_type": "code",
      "metadata": {
        "id": "kKwr6xwpQMhr",
        "colab_type": "code",
        "colab": {}
      },
      "source": [
        "y_true_cls = tf.placeholder(tf.int64, [None])"
      ],
      "execution_count": 0,
      "outputs": []
    },
    {
      "cell_type": "markdown",
      "metadata": {
        "id": "Mr3TGD41QMhw",
        "colab_type": "text"
      },
      "source": [
        "### Variables to be optimized\n",
        "\n",
        "The variables that will be optimized are declared here. As there are three layers in this network, there will be 3 weight and 3 bias matrices, whose sizes change based on the input units and output units. The neuron numbers of the first two layers are parametrized with the variables **neurons1** and **neurons2**. For the sake of the experiment, both of the neuron numbers were given 1000 to see the difference from the two layer network with the hidden layer having 1000 neurons.\n",
        "\n",
        "Note that the variable are initilized with values from random normal distribution. The reason for this is that the model is not initilized with proper values unless specified. Without the initializations, the model cannot learn weights during the training session and predict the same class over and over again for all the inputs.\n",
        "\n"
      ]
    },
    {
      "cell_type": "markdown",
      "metadata": {
        "id": "BYCmtrgJQEKK",
        "colab_type": "text"
      },
      "source": [
        ""
      ]
    },
    {
      "cell_type": "code",
      "metadata": {
        "id": "fFapjFIHQ5lQ",
        "colab_type": "code",
        "colab": {}
      },
      "source": [
        "neurons1 = 1000\n",
        "neurons2 = 1000\n",
        "weights1 = tf.Variable(tf.random_normal([img_size_flat, neurons1], mean=0, stddev=2))\n",
        "weights2 = tf.Variable(tf.random_normal([neurons1, neurons2], mean=0, stddev=2))\n",
        "weights3 = tf.Variable(tf.random_normal([neurons2, num_classes], mean=0, stddev=2))\n",
        "\n",
        "\n",
        "biases1 = tf.Variable(tf.random_normal([neurons1], mean=0, stddev=1))\n",
        "biases2 = tf.Variable(tf.random_normal([neurons2, mean=0, stddev=1))\n",
        "biases3 = tf.Variable(tf.random_normal([num_classes], mean=0, stddev=1))"
      ],
      "execution_count": 0,
      "outputs": []
    },
    {
      "cell_type": "markdown",
      "metadata": {
        "id": "HKD02Z_LxZNu",
        "colab_type": "text"
      },
      "source": [
        "# Model\n",
        "The network is 3 layered and there are activations at end of each layer. ReLU was used as the activation function of the hidden layers and softmax was used for the output layer.\n",
        "\n",
        "The hidden layers are defined as **y1** and **y2** and the output layer is defined as **logits**, which is then put under argmax operation which will give the final prediction."
      ]
    },
    {
      "cell_type": "code",
      "metadata": {
        "id": "JHh7XMKexXBC",
        "colab_type": "code",
        "colab": {}
      },
      "source": [
        "y1 = tf.matmul(x, weights1) + biases1\n",
        "y1 = tf.nn.relu(y1)\n",
        "y2 = tf.matmul(y1, weights2) + biases2\n",
        "y2 = tf.nn.relu(y1)\n",
        "logits = tf.matmul(y2, weights3) + biases3 "
      ],
      "execution_count": 0,
      "outputs": []
    },
    {
      "cell_type": "code",
      "metadata": {
        "id": "4MG9C1nBQMiA",
        "colab_type": "code",
        "colab": {}
      },
      "source": [
        "y_pred = tf.nn.softmax(logits)"
      ],
      "execution_count": 0,
      "outputs": []
    },
    {
      "cell_type": "code",
      "metadata": {
        "id": "E8lETwnsQMiE",
        "colab_type": "code",
        "colab": {}
      },
      "source": [
        "y_pred_cls = tf.argmax(y_pred, axis=1)"
      ],
      "execution_count": 0,
      "outputs": []
    },
    {
      "cell_type": "markdown",
      "metadata": {
        "id": "JOm0fGtHQMiH",
        "colab_type": "text"
      },
      "source": [
        "### Cost-function to be optimized"
      ]
    },
    {
      "cell_type": "code",
      "metadata": {
        "id": "6nbsKrU9QMiI",
        "colab_type": "code",
        "outputId": "b7254942-2366-4054-d97f-b951b60c2235",
        "colab": {
          "base_uri": "https://localhost:8080/",
          "height": 173
        }
      },
      "source": [
        "cross_entropy = tf.nn.softmax_cross_entropy_with_logits(logits=logits,\n",
        "                                                        labels=y_true)"
      ],
      "execution_count": 0,
      "outputs": [
        {
          "output_type": "stream",
          "text": [
            "WARNING:tensorflow:From <ipython-input-17-a65440ade102>:2: softmax_cross_entropy_with_logits (from tensorflow.python.ops.nn_ops) is deprecated and will be removed in a future version.\n",
            "Instructions for updating:\n",
            "\n",
            "Future major versions of TensorFlow will allow gradients to flow\n",
            "into the labels input on backprop by default.\n",
            "\n",
            "See `tf.nn.softmax_cross_entropy_with_logits_v2`.\n",
            "\n"
          ],
          "name": "stdout"
        }
      ]
    },
    {
      "cell_type": "code",
      "metadata": {
        "id": "39dzVk0lQMiM",
        "colab_type": "code",
        "colab": {}
      },
      "source": [
        "cost = tf.reduce_mean(cross_entropy)"
      ],
      "execution_count": 0,
      "outputs": []
    },
    {
      "cell_type": "markdown",
      "metadata": {
        "id": "fRhcADecQMiP",
        "colab_type": "text"
      },
      "source": [
        "### Optimization method\n",
        "For the sake of experiment, this part was added to qucickly try different optimization methods. The learning rate can be changed with **lr** and the optimization method can be changed with **opt**."
      ]
    },
    {
      "cell_type": "code",
      "metadata": {
        "id": "fddTTE2zQMiQ",
        "colab_type": "code",
        "colab": {}
      },
      "source": [
        "lr = 0.05\n",
        "opt = \"Gradient Descent\"\n",
        "#opt = \"Adam\"\n",
        "if opt == \"Gradient Descent\":\n",
        "  optimizer = tf.train.GradientDescentOptimizer(learning_rate=lr).minimize(cost)\n",
        "else: \n",
        "  optimizer = tf.train.AdamOptimizer().minimize(cost)"
      ],
      "execution_count": 0,
      "outputs": []
    },
    {
      "cell_type": "markdown",
      "metadata": {
        "id": "mUdvLTxwQMiU",
        "colab_type": "text"
      },
      "source": [
        "### Performance measures"
      ]
    },
    {
      "cell_type": "code",
      "metadata": {
        "id": "Meyo9ALOQMiY",
        "colab_type": "code",
        "colab": {}
      },
      "source": [
        "correct_prediction = tf.equal(y_pred_cls, y_true_cls)"
      ],
      "execution_count": 0,
      "outputs": []
    },
    {
      "cell_type": "code",
      "metadata": {
        "id": "3gbBPVyWQMib",
        "colab_type": "code",
        "colab": {}
      },
      "source": [
        "accuracy = tf.reduce_mean(tf.cast(correct_prediction, tf.float32))"
      ],
      "execution_count": 0,
      "outputs": []
    },
    {
      "cell_type": "markdown",
      "metadata": {
        "id": "rlydJFPaQMie",
        "colab_type": "text"
      },
      "source": [
        "## TensorFlow Run"
      ]
    },
    {
      "cell_type": "markdown",
      "metadata": {
        "id": "M-aBNvLvQMif",
        "colab_type": "text"
      },
      "source": [
        "### Create TensorFlow session\n",
        "\n",
        "Once the TensorFlow graph has been created, we have to create a TensorFlow session which is used to execute the graph."
      ]
    },
    {
      "cell_type": "code",
      "metadata": {
        "id": "nHe3y8odQMig",
        "colab_type": "code",
        "colab": {}
      },
      "source": [
        "session = tf.Session()"
      ],
      "execution_count": 0,
      "outputs": []
    },
    {
      "cell_type": "code",
      "metadata": {
        "id": "do7NWzgpQMik",
        "colab_type": "code",
        "outputId": "3712538f-b688-4670-fd08-c674807c8938",
        "colab": {
          "base_uri": "https://localhost:8080/",
          "height": 88
        }
      },
      "source": [
        "start_time=time.time()\n",
        "init = tf.initialize_all_variables()\n",
        "session.run(init)\n"
      ],
      "execution_count": 0,
      "outputs": [
        {
          "output_type": "stream",
          "text": [
            "WARNING:tensorflow:From /usr/local/lib/python3.6/dist-packages/tensorflow_core/python/util/tf_should_use.py:198: initialize_all_variables (from tensorflow.python.ops.variables) is deprecated and will be removed after 2017-03-02.\n",
            "Instructions for updating:\n",
            "Use `tf.global_variables_initializer` instead.\n"
          ],
          "name": "stdout"
        }
      ]
    },
    {
      "cell_type": "markdown",
      "metadata": {
        "id": "WFSTEtMeQMin",
        "colab_type": "text"
      },
      "source": [
        "### Train"
      ]
    },
    {
      "cell_type": "code",
      "metadata": {
        "id": "455vhG2iQMip",
        "colab_type": "code",
        "colab": {}
      },
      "source": [
        "batch_size = 1000"
      ],
      "execution_count": 0,
      "outputs": []
    },
    {
      "cell_type": "code",
      "metadata": {
        "id": "0hv8UbcjUkaQ",
        "colab_type": "code",
        "colab": {}
      },
      "source": [
        "accuracy_on_iteration = []"
      ],
      "execution_count": 0,
      "outputs": []
    },
    {
      "cell_type": "code",
      "metadata": {
        "id": "OYM-md1DQMit",
        "colab_type": "code",
        "colab": {}
      },
      "source": [
        "def train(num_iterations):\n",
        "    for i in range(num_iterations):\n",
        "        # Get a batch of training examples.\n",
        "        # x_batch now holds a batch of images and\n",
        "        # y_true_batch are the true labels for those images.\n",
        "        x_batch, y_true_batch = data.train.next_batch(batch_size)\n",
        "        save_accuracy()\n",
        "        # Put the batch into a dict with the proper names\n",
        "        # for placeholder variables in the TensorFlow graph.\n",
        "        # Note that the placeholder for y_true_cls is not set\n",
        "        # because it is not used during training.\n",
        "        feed_dict_train = {x: x_batch,\n",
        "                           y_true: y_true_batch}\n",
        "\n",
        "        # Run the optimizer using this batch of training data.\n",
        "        # TensorFlow assigns the variables in feed_dict_train\n",
        "        # to the placeholder variables and then runs the optimizer.\n",
        "        session.run(optimizer, feed_dict=feed_dict_train)"
      ],
      "execution_count": 0,
      "outputs": []
    },
    {
      "cell_type": "markdown",
      "metadata": {
        "id": "0FSRBAmfQMiv",
        "colab_type": "text"
      },
      "source": [
        "### Test"
      ]
    },
    {
      "cell_type": "code",
      "metadata": {
        "id": "vr7AFFFxQMiy",
        "colab_type": "code",
        "colab": {}
      },
      "source": [
        "feed_dict_test = {x: data.test.images,\n",
        "                  y_true: data.test.labels,\n",
        "                  y_true_cls: data.test.cls}\n"
      ],
      "execution_count": 0,
      "outputs": []
    },
    {
      "cell_type": "code",
      "metadata": {
        "id": "K9OWyM8NXXFt",
        "colab_type": "code",
        "colab": {}
      },
      "source": [
        "accuracy_on_iteration = []"
      ],
      "execution_count": 0,
      "outputs": []
    },
    {
      "cell_type": "code",
      "metadata": {
        "id": "0wWg_IiDQMi6",
        "colab_type": "code",
        "colab": {}
      },
      "source": [
        "def print_accuracy():\n",
        "    \n",
        "    # Run the model to get predictions for test data\n",
        "    cls_pred = session.run(y_pred_cls, feed_dict=feed_dict_test)\n",
        "    \n",
        "    # Get true labels\n",
        "    cls_true = data.test.cls\n",
        "    \n",
        "    # Calculate the difference betweeb predictions and true labels\n",
        "    correct_prediction = np.equal(cls_pred, cls_true)\n",
        "    \n",
        "    # Calculate the total accuracy\n",
        "    acc = np.mean(correct_prediction)\n",
        "\n",
        "    # Print the accuracy.\n",
        "    print(\"Accuracy on test-set: {0:.1%}\".format(acc))\n",
        "    return acc"
      ],
      "execution_count": 0,
      "outputs": []
    },
    {
      "cell_type": "code",
      "metadata": {
        "id": "cuJ3gDeHXJD8",
        "colab_type": "code",
        "colab": {}
      },
      "source": [
        "def save_accuracy():\n",
        "    \n",
        "    # Run the model to get predictions for test data\n",
        "    cls_pred = session.run(y_pred_cls, feed_dict=feed_dict_test)\n",
        "    \n",
        "    # Get true labels\n",
        "    cls_true = data.test.cls\n",
        "    \n",
        "    # Calculate the difference betweeb predictions and true labels\n",
        "    correct_prediction = np.equal(cls_pred, cls_true)\n",
        "    \n",
        "    # Calculate the total accuracy\n",
        "    acc = np.mean(correct_prediction)\n",
        "\n",
        "    # Print the accuracy.\n",
        "    accuracy_on_iteration.append(acc)"
      ],
      "execution_count": 0,
      "outputs": []
    },
    {
      "cell_type": "code",
      "metadata": {
        "id": "vpRk46p-QMjC",
        "colab_type": "code",
        "outputId": "177a8994-e69a-415d-93d6-84b4ec9dad60",
        "colab": {
          "base_uri": "https://localhost:8080/",
          "height": 51
        }
      },
      "source": [
        "print_accuracy()"
      ],
      "execution_count": 0,
      "outputs": [
        {
          "output_type": "stream",
          "text": [
            "Accuracy on test-set: 10.2%\n"
          ],
          "name": "stdout"
        },
        {
          "output_type": "execute_result",
          "data": {
            "text/plain": [
              "0.1025"
            ]
          },
          "metadata": {
            "tags": []
          },
          "execution_count": 31
        }
      ]
    },
    {
      "cell_type": "code",
      "metadata": {
        "id": "bsetJ8gmQMjH",
        "colab_type": "code",
        "colab": {}
      },
      "source": [
        "train(num_iterations=1)"
      ],
      "execution_count": 0,
      "outputs": []
    },
    {
      "cell_type": "code",
      "metadata": {
        "id": "Hxd08idIQMjL",
        "colab_type": "code",
        "outputId": "bc889e9c-e9a7-4970-96a7-620220a9707e",
        "colab": {
          "base_uri": "https://localhost:8080/",
          "height": 51
        }
      },
      "source": [
        "print_accuracy()"
      ],
      "execution_count": 0,
      "outputs": [
        {
          "output_type": "stream",
          "text": [
            "Accuracy on test-set: 16.0%\n"
          ],
          "name": "stdout"
        },
        {
          "output_type": "execute_result",
          "data": {
            "text/plain": [
              "0.1603"
            ]
          },
          "metadata": {
            "tags": []
          },
          "execution_count": 33
        }
      ]
    },
    {
      "cell_type": "markdown",
      "metadata": {
        "id": "5XWmJYkFQMjO",
        "colab_type": "text"
      },
      "source": [
        "## Performance after 10 training iterations"
      ]
    },
    {
      "cell_type": "code",
      "metadata": {
        "id": "lH8ldMMBQMjP",
        "colab_type": "code",
        "colab": {}
      },
      "source": [
        "# We have already performed 1 iteration.\n",
        "train(num_iterations=9)"
      ],
      "execution_count": 0,
      "outputs": []
    },
    {
      "cell_type": "code",
      "metadata": {
        "id": "NVGcDzfAQMjT",
        "colab_type": "code",
        "outputId": "13ae06b9-0f3f-4e3c-f0f4-0c003a2b879e",
        "colab": {
          "base_uri": "https://localhost:8080/",
          "height": 51
        }
      },
      "source": [
        "print_accuracy()"
      ],
      "execution_count": 0,
      "outputs": [
        {
          "output_type": "stream",
          "text": [
            "Accuracy on test-set: 56.4%\n"
          ],
          "name": "stdout"
        },
        {
          "output_type": "execute_result",
          "data": {
            "text/plain": [
              "0.5636"
            ]
          },
          "metadata": {
            "tags": []
          },
          "execution_count": 35
        }
      ]
    },
    {
      "cell_type": "code",
      "metadata": {
        "id": "OIZ99dWvQMjY",
        "colab_type": "code",
        "colab": {}
      },
      "source": [
        "# We have already performed 10 iterations.\n",
        "train(num_iterations=990)"
      ],
      "execution_count": 0,
      "outputs": []
    },
    {
      "cell_type": "code",
      "metadata": {
        "id": "dqZeU6vjQMja",
        "colab_type": "code",
        "outputId": "553ab505-39b2-464c-aef9-cd65c840f1dd",
        "colab": {
          "base_uri": "https://localhost:8080/",
          "height": 34
        }
      },
      "source": [
        "final_acc = print_accuracy()"
      ],
      "execution_count": 0,
      "outputs": [
        {
          "output_type": "stream",
          "text": [
            "Accuracy on test-set: 91.9%\n"
          ],
          "name": "stdout"
        }
      ]
    },
    {
      "cell_type": "markdown",
      "metadata": {
        "id": "ZiUOPKf8QMje",
        "colab_type": "text"
      },
      "source": [
        "## Confusion matrix"
      ]
    },
    {
      "cell_type": "code",
      "metadata": {
        "id": "MuBJPzzgQMjh",
        "colab_type": "code",
        "colab": {}
      },
      "source": [
        "from sklearn.metrics import confusion_matrix\n",
        "\n",
        "def print_confusion_matrix():\n",
        "    # Get the true classifications for the test-set.\n",
        "    cls_true = data.test.cls\n",
        "    \n",
        "    # Get the predicted classifications for the test-set.\n",
        "    cls_pred = session.run(y_pred_cls, feed_dict=feed_dict_test)\n",
        "\n",
        "    # Get the confusion matrix using sklearn.\n",
        "    cm = confusion_matrix(y_true=cls_true,\n",
        "                          y_pred=cls_pred)\n",
        "\n",
        "    # Print the confusion matrix as text.\n",
        "    print(cm)\n",
        "\n",
        "    # Plot the confusion matrix as an image.\n",
        "    plt.imshow(cm, interpolation='nearest', cmap=\"Blues\")"
      ],
      "execution_count": 0,
      "outputs": []
    },
    {
      "cell_type": "code",
      "metadata": {
        "id": "SH79UBXcQMjj",
        "colab_type": "code",
        "outputId": "8dee627d-d72a-45aa-cc2c-36ed3950b104",
        "colab": {
          "base_uri": "https://localhost:8080/",
          "height": 435
        }
      },
      "source": [
        "print_confusion_matrix()"
      ],
      "execution_count": 0,
      "outputs": [
        {
          "output_type": "stream",
          "text": [
            "[[ 939    0    6    3    1   12    9    4    1    5]\n",
            " [   0 1100    5    5    1    2    3    5   12    2]\n",
            " [   6    5  931   28    9    9    9   12   20    3]\n",
            " [   3    3   17  925    1   22    2   11   17    9]\n",
            " [   2    2   10    4  896    2    6    8   11   41]\n",
            " [   4    1    7   34    4  801   10    7   17    7]\n",
            " [  14    2   11    1   10   22  882    1    9    6]\n",
            " [   1    8   26   22    4    2    1  929    4   31]\n",
            " [   5    2   13   21    6   27    9   11  865   15]\n",
            " [   5    7    2    9   30   10    0   10   14  922]]\n"
          ],
          "name": "stdout"
        },
        {
          "output_type": "display_data",
          "data": {
            "image/png": "[encoded data removed]",
            "text/plain": [
              "<Figure size 432x288 with 1 Axes>"
            ]
          },
          "metadata": {
            "tags": []
          }
        }
      ]
    },
    {
      "cell_type": "code",
      "metadata": {
        "id": "sIeWql42QMjo",
        "colab_type": "code",
        "colab": {}
      },
      "source": [
        "session.close()\n",
        "end_time = time.time()"
      ],
      "execution_count": 0,
      "outputs": []
    },
    {
      "cell_type": "markdown",
      "metadata": {
        "id": "bSp3QPD_1oAW",
        "colab_type": "text"
      },
      "source": [
        "## Accuracy Graph and Elapsed Time"
      ]
    },
    {
      "cell_type": "code",
      "metadata": {
        "id": "rHPBSIsFpSAy",
        "colab_type": "code",
        "outputId": "21deca18-c671-4a91-f95c-19f184fc8b15",
        "colab": {
          "base_uri": "https://localhost:8080/",
          "height": 329
        }
      },
      "source": [
        "plt.plot(accuracy_on_iteration)\n",
        "plt.xlabel(\"Iteration\")\n",
        "plt.ylabel(\"Accuracy\")\n",
        "plt.ylim(top=1.0, bottom=0.0)\n",
        "if opt == \"Adam\":\n",
        "  plt.title(\"Training with {} and Batch Size={}\".format(opt, str(batch_size)))\n",
        "else:\n",
        "  plt.title(\"Training with {} and Learning Rate={} and Batch Size={}\".format(opt, str(lr), str(batch_size)))\n",
        "plt.show()\n",
        "print(\"Accuracy on test-set: {0:.1%}\".format(final_acc))\n",
        "print(\"Time taken: {}\".format(str(end_time - start_time)))\n"
      ],
      "execution_count": 0,
      "outputs": [
        {
          "output_type": "display_data",
          "data": {
            "image/png": "[encoded data removed]",
            "text/plain": [
              "<Figure size 432x288 with 1 Axes>"
            ]
          },
          "metadata": {
            "tags": []
          }
        },
        {
          "output_type": "stream",
          "text": [
            "Accuracy on test-set: 91.9%\n",
            "Time taken: 18.701510190963745\n"
          ],
          "name": "stdout"
        }
      ]
    },
    {
      "cell_type": "markdown",
      "metadata": {
        "id": "WUI6jn4bQMjr",
        "colab_type": "text"
      },
      "source": [
        "## References\n",
        "\n",
        "[1] [Magnus Erik Hvass Pedersen](http://www.hvass-labs.org/)"
      ]
    }
  ]
}