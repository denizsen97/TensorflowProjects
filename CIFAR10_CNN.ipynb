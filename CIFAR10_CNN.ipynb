{
  "nbformat": 4,
  "nbformat_minor": 0,
  "metadata": {
    "anaconda-cloud": {},
    "kernelspec": {
      "name": "python3",
      "display_name": "Python 3"
    },
    "language_info": {
      "codemirror_mode": {
        "name": "ipython",
        "version": 3
      },
      "file_extension": ".py",
      "mimetype": "text/x-python",
      "name": "python",
      "nbconvert_exporter": "python",
      "pygments_lexer": "ipython3",
      "version": "3.5.4"
    },
    "colab": {
      "name": "Question 3 Çalışan.ipynb",
      "provenance": [],
      "collapsed_sections": []
    },
    "accelerator": "GPU"
  },
  "cells": [
    {
      "cell_type": "markdown",
      "metadata": {
        "id": "gbLcbeEUkCgS",
        "colab_type": "text"
      },
      "source": [
        "# 3. Convolutional Neural Networks (60 pts)"
      ]
    },
    {
      "cell_type": "markdown",
      "metadata": {
        "id": "9UoTXCQskCgU",
        "colab_type": "text"
      },
      "source": [
        "### Implement the convolutional neural network shown below for CIFAR-10 dataset.  Your code must follow these rules:\n",
        "\n",
        "__- Use your own implementation.__\n",
        "\n",
        "__- You can only use \" tf \" and \" tf.nn \" libraries for version 1 (40 pts). Check [tf.nn](https://www.tensorflow.org/versions/r1.15/api_docs/python/tf/nn)__\n",
        "\n",
        "__- You can use \" tf.layers \" library for version 2 (20 pts). Check [tf.layers](https://www.tensorflow.org/versions/r1.15/api_docs/python/tf/layers)__\n",
        "\n",
        "__- Use ReLU activation function__\n",
        "\n",
        "__- Use batch normalization for convolutional layers__\n",
        "\n",
        "__- Use dropout for fully connected layers (for training only)__\n",
        "\n",
        "__- Write necessary explanations for each cell. Explanations should be detailed.__\n",
        "\n",
        "__- You can use codes from Lab Notebook.__\n",
        "\n",
        "__- (OPTIONAL) You can add more layers or use different methods for better accuracy. If you want, send an another notebook file with better accuracy for bonus points.__"
      ]
    },
    {
      "cell_type": "markdown",
      "metadata": {
        "id": "aQO9F0S_kCgV",
        "colab_type": "text"
      },
      "source": [
        "<img src=\"https://github.com/METU-MMI-DeepLearning/MMI713_Deep_Learning/blob/master/Assignment%202/model.png?raw=1\">"
      ]
    },
    {
      "cell_type": "markdown",
      "metadata": {
        "id": "3JZtWukIkCgW",
        "colab_type": "text"
      },
      "source": [
        "## Imports"
      ]
    },
    {
      "cell_type": "code",
      "metadata": {
        "id": "BWgeQ2RMkCgX",
        "colab_type": "code",
        "outputId": "4197e335-7432-44e4-910a-9c37f092c80a",
        "colab": {
          "base_uri": "https://localhost:8080/",
          "height": 102
        }
      },
      "source": [
        "%tensorflow_version 1.x\" before \"import tensorflow\n",
        "import tensorflow as tf\n",
        "import numpy as np\n",
        "import matplotlib.pyplot as plt\n",
        "from time import time\n",
        "%matplotlib inline"
      ],
      "execution_count": 1,
      "outputs": [
        {
          "output_type": "stream",
          "text": [
            "`%tensorflow_version` only switches the major version: 1.x or 2.x.\n",
            "You set: `1.x\" before \"import tensorflow`. This will be interpreted as: `1.x`.\n",
            "\n",
            "\n",
            "TensorFlow 1.x selected.\n"
          ],
          "name": "stdout"
        }
      ]
    },
    {
      "cell_type": "markdown",
      "metadata": {
        "id": "EMfvENEBkCgc",
        "colab_type": "text"
      },
      "source": [
        "## Load Data\n",
        "\n",
        "You can normalize input data \"x\" if needed. You can use \"np.squeeze\" to remove single-dimensional entries from the shape of an array. You probably need to convert labels \"y\" to one-hot vector for loss function."
      ]
    },
    {
      "cell_type": "markdown",
      "metadata": {
        "id": "pp6PkaKXILzq",
        "colab_type": "text"
      },
      "source": [
        "*Load* the CIFAR10 dataset\n",
        "\n"
      ]
    },
    {
      "cell_type": "code",
      "metadata": {
        "id": "GSMOjfErkCgc",
        "colab_type": "code",
        "colab": {}
      },
      "source": [
        "(x_train, y_train), (x_test, y_test) = tf.keras.datasets.cifar10.load_data()"
      ],
      "execution_count": 0,
      "outputs": []
    },
    {
      "cell_type": "markdown",
      "metadata": {
        "id": "pYHCKmKhIWg5",
        "colab_type": "text"
      },
      "source": [
        "Normalize the x input data"
      ]
    },
    {
      "cell_type": "code",
      "metadata": {
        "id": "BrpR6lyQIOAz",
        "colab_type": "code",
        "outputId": "5dd47203-a9ae-4008-d675-f1e86bc9cade",
        "colab": {
          "base_uri": "https://localhost:8080/",
          "height": 51
        }
      },
      "source": [
        "n_classes = 10\n",
        "X_train_mean = np.mean(x_train, axis=(0,1,2))\n",
        "X_train_std = np.std(x_train, axis=(0,1,2))\n",
        "x_train = (x_train - X_train_mean) / X_train_std\n",
        "x_test = (x_test - X_train_mean) / X_train_std\n",
        "\n",
        "print(\"x_train:\")\n",
        "print(x_train.shape)"
      ],
      "execution_count": 3,
      "outputs": [
        {
          "output_type": "stream",
          "text": [
            "x_train:\n",
            "(50000, 32, 32, 3)\n"
          ],
          "name": "stdout"
        }
      ]
    },
    {
      "cell_type": "markdown",
      "metadata": {
        "id": "1rK3K0M7IfAF",
        "colab_type": "text"
      },
      "source": [
        "Convert y data to one-hot vector form\n",
        "\n"
      ]
    },
    {
      "cell_type": "code",
      "metadata": {
        "id": "i0Y8og3GIGJY",
        "colab_type": "code",
        "outputId": "fd8b5e6f-f731-478d-d63d-5fdab0470567",
        "colab": {
          "base_uri": "https://localhost:8080/",
          "height": 102
        }
      },
      "source": [
        "print(\"y_train:\")\n",
        "y_train = np.squeeze(y_train)\n",
        "y_train = np.eye(np.max(y_train) + 1)[y_train]\n",
        "print(y_train.shape)\n",
        "print(y_train[0])\n",
        "\n",
        "print(\"y_test:\")\n",
        "y_test = np.squeeze(y_test)\n",
        "y_test = np.eye(np.max(y_test) + 1)[y_test]\n",
        "print(y_test.shape)"
      ],
      "execution_count": 4,
      "outputs": [
        {
          "output_type": "stream",
          "text": [
            "y_train:\n",
            "(50000, 10)\n",
            "[0. 0. 0. 0. 0. 0. 1. 0. 0. 0.]\n",
            "y_test:\n",
            "(10000, 10)\n"
          ],
          "name": "stdout"
        }
      ]
    },
    {
      "cell_type": "markdown",
      "metadata": {
        "id": "oWuFjqn9kCgg",
        "colab_type": "text"
      },
      "source": [
        "## Define placeholders\n",
        "\n",
        "Define input and output placeholders. It is a good idea to pass dropout rate also as a placeholder."
      ]
    },
    {
      "cell_type": "markdown",
      "metadata": {
        "id": "BeHPyURMJT0u",
        "colab_type": "text"
      },
      "source": [
        "We define the placeholder **x** for the input data with no specific number of samples but with dimensions of a single sample.\n",
        "We define **y** with no sample number either but with dimensions of a one-hot vector.\n",
        "**dropout** placeholder is the dropout rate for use to be able to specify the dropout rate during training and to disable the process during test time."
      ]
    },
    {
      "cell_type": "code",
      "metadata": {
        "id": "bIBLf3eKkCgg",
        "colab_type": "code",
        "colab": {}
      },
      "source": [
        "dropout_rate = 0.75\n",
        "\n",
        "x = tf.placeholder(tf.float32, [None, 32, 32, 3])\n",
        "y = tf.placeholder(tf.float32, [None, n_classes])\n",
        "dropout = tf.placeholder(tf.float32)"
      ],
      "execution_count": 0,
      "outputs": []
    },
    {
      "cell_type": "markdown",
      "metadata": {
        "id": "gVM5ORz4kCgl",
        "colab_type": "text"
      },
      "source": [
        "## Define variables\n",
        "\n",
        "Define filters for convolutional layers, weights and biases for fully connected layers. Don't forget to use a initializer. Xavier is recommended."
      ]
    },
    {
      "cell_type": "markdown",
      "metadata": {
        "id": "XFCTPOOUO0h6",
        "colab_type": "text"
      },
      "source": [
        "We define the parameters inside a dictionary to use them in a higher level. All the variables are initilized with Xavier initilization."
      ]
    },
    {
      "cell_type": "code",
      "metadata": {
        "id": "nsMyLpg1kCgl",
        "colab_type": "code",
        "colab": {}
      },
      "source": [
        "weights = {\n",
        "    'cl1' : tf.get_variable(\"ConvFilter1\", [5,5,3,32], initializer=tf.glorot_normal_initializer()),\n",
        "    'cl2' : tf.get_variable(\"ConvFilter2\", [5,5,32,16], initializer=tf.glorot_normal_initializer()),\n",
        "    'cl3' : tf.get_variable(\"ConvFilter3\", [5,5,16,32], initializer=tf.glorot_normal_initializer()),\n",
        "    'fc1' : tf.get_variable(\"DenseWeight1\", [512,128], initializer=tf.glorot_normal_initializer()),\n",
        "    'out' : tf.get_variable(\"DenseWeight2\", [128, n_classes], initializer=tf.glorot_normal_initializer()),\n",
        "}\n"
      ],
      "execution_count": 0,
      "outputs": []
    },
    {
      "cell_type": "code",
      "metadata": {
        "id": "lyg2JD-rm1Rs",
        "colab_type": "code",
        "colab": {}
      },
      "source": [
        "biases = {\n",
        "    'cl1' : tf.get_variable(\"Bias1\", [32], initializer=tf.glorot_normal_initializer()),\n",
        "    'cl2' : tf.get_variable(\"Bias2\", [16], initializer=tf.glorot_normal_initializer()),\n",
        "    'cl3' : tf.get_variable(\"Bias3\", [32], initializer=tf.glorot_normal_initializer()),\n",
        "    'fc1' : tf.get_variable(\"Bias4\", [128], initializer=tf.glorot_normal_initializer()),\n",
        "    'out' : tf.get_variable(\"Bias5\", [n_classes], initializer=tf.glorot_normal_initializer()),\n",
        "}"
      ],
      "execution_count": 0,
      "outputs": []
    },
    {
      "cell_type": "markdown",
      "metadata": {
        "id": "ws4bQ6kTkCgp",
        "colab_type": "text"
      },
      "source": [
        "## Define network\n",
        "\n",
        "Define the network as a function.Recommended functions are:\n",
        "\n",
        "`\n",
        "tf.nn.convolution / tf.nn.pool / tf.nn.batch_normalization / tf.nn.dropout / tf.reshape`"
      ]
    },
    {
      "cell_type": "markdown",
      "metadata": {
        "id": "x0HjwPAQkW_f",
        "colab_type": "text"
      },
      "source": [
        "The convolution layer method constituted by convolution, adding bias, batch normalziation and ReLU activation."
      ]
    },
    {
      "cell_type": "code",
      "metadata": {
        "id": "B_Q8qT01kCgp",
        "colab_type": "code",
        "colab": {}
      },
      "source": [
        "def conv_layer(x, filter, bias, strides=[1,1]):\n",
        "  x = tf.nn.convolution(x, filter, \"SAME\", strides)\n",
        "  x = tf.nn.bias_add(x, bias)\n",
        "  x = batch_norm(x, bias.get_shape().as_list()[0])\n",
        "  x = tf.nn.relu(x)\n",
        "  \n",
        "  return x"
      ],
      "execution_count": 0,
      "outputs": []
    },
    {
      "cell_type": "markdown",
      "metadata": {
        "id": "7pDsV2z_lCYn",
        "colab_type": "text"
      },
      "source": [
        "Max pooling layer using the tf.nn.pool function with setting of max pooling"
      ]
    },
    {
      "cell_type": "code",
      "metadata": {
        "id": "qeAxkyF0lo51",
        "colab_type": "code",
        "colab": {}
      },
      "source": [
        "def maxpool_layer(x, window=[3,3], strides=[2,2], padding=\"SAME\"):\n",
        "  return tf.nn.pool(x, window, \"MAX\", padding, strides=strides)\n"
      ],
      "execution_count": 0,
      "outputs": []
    },
    {
      "cell_type": "markdown",
      "metadata": {
        "id": "uFhBQdqElqbr",
        "colab_type": "text"
      },
      "source": [
        "The definition of the CNN. It has convolution, max pooling and dense layers. "
      ]
    },
    {
      "cell_type": "code",
      "metadata": {
        "id": "dtUBOiQJmFtK",
        "colab_type": "code",
        "colab": {}
      },
      "source": [
        "def conv_net(x, weights, biases, dropout_rate):\n",
        "  conv1 = conv_layer(x, weights['cl1'], biases[\"cl1\"])\n",
        "  pool1 = maxpool_layer(conv1)\n",
        "  conv2 = conv_layer(pool1, weights['cl2'], biases['cl2'])\n",
        "  pool2 = maxpool_layer(conv2)\n",
        "  conv3 = conv_layer(pool2, weights['cl3'], biases['cl3'])\n",
        "  pool3 = maxpool_layer(conv3)\n",
        "  fc1 = tf.reshape(pool3, [-1, weights['fc1'].get_shape().as_list()[0]])\n",
        "  fc1 = dense_layer(fc1, weights['fc1'], biases['fc1'], dropout_rate)\n",
        "  logits = dense_layer(fc1, weights['out'], biases['out'], dropout_rate, activation=False)\n",
        "  softmax_output = tf.nn.softmax(logits)\n",
        "  return logits, softmax_output\n"
      ],
      "execution_count": 0,
      "outputs": []
    },
    {
      "cell_type": "markdown",
      "metadata": {
        "id": "M1we01vHmRor",
        "colab_type": "text"
      },
      "source": [
        "The dense layer definition which does matrix multiplication with the input and the weights and adds the biases. Then, it applies activation and dropout in order."
      ]
    },
    {
      "cell_type": "code",
      "metadata": {
        "id": "aGfoJTYtZ-Aq",
        "colab_type": "code",
        "colab": {}
      },
      "source": [
        "def dense_layer(x, weight, bias, dropout, activation=True):\n",
        "  x = tf.add(tf.matmul(x, weight), bias)\n",
        "  x = tf.nn.dropout(x, dropout)\n",
        "  if activation:\n",
        "    x = tf.nn.relu(x)\n",
        "  return x"
      ],
      "execution_count": 0,
      "outputs": []
    },
    {
      "cell_type": "markdown",
      "metadata": {
        "id": "CK9BjnLbm1Cf",
        "colab_type": "text"
      },
      "source": [
        "Batch normalization layer creates 2 variables every time it is used which are trainable. The batch of inputs is normalized by its mean and variance with the parametrized scaling factors. "
      ]
    },
    {
      "cell_type": "code",
      "metadata": {
        "id": "1Yug6W7VfLbQ",
        "colab_type": "code",
        "colab": {}
      },
      "source": [
        "def batch_norm(x, n_out):\n",
        "    beta = tf.Variable(tf.constant(0.0, shape=[n_out]), trainable=True)\n",
        "    gamma = tf.Variable(tf.constant(1.0, shape=[n_out]), trainable=True)\n",
        "    mean, var = tf.nn.moments(x, [0, 1, 2])\n",
        "    normed = tf.nn.batch_normalization(x, mean, var, beta, gamma, 1e-3)\n",
        "    return normed"
      ],
      "execution_count": 0,
      "outputs": []
    },
    {
      "cell_type": "markdown",
      "metadata": {
        "id": "2H2YfbtSnIzk",
        "colab_type": "text"
      },
      "source": [
        "Define the CNN. Outputs are the logits and the spftmax outputs separated."
      ]
    },
    {
      "cell_type": "code",
      "metadata": {
        "id": "OH8saEAzZm-3",
        "colab_type": "code",
        "outputId": "c08df0cd-af52-4b41-e62c-39c24d21cc4d",
        "colab": {
          "base_uri": "https://localhost:8080/",
          "height": 88
        }
      },
      "source": [
        "logits, prediction = conv_net(x, weights, biases, dropout)"
      ],
      "execution_count": 13,
      "outputs": [
        {
          "output_type": "stream",
          "text": [
            "WARNING:tensorflow:From <ipython-input-11-68c73f4d5e94>:3: calling dropout (from tensorflow.python.ops.nn_ops) with keep_prob is deprecated and will be removed in a future version.\n",
            "Instructions for updating:\n",
            "Please use `rate` instead of `keep_prob`. Rate should be set to `rate = 1 - keep_prob`.\n"
          ],
          "name": "stdout"
        }
      ]
    },
    {
      "cell_type": "markdown",
      "metadata": {
        "id": "CGeBNYfhkCgu",
        "colab_type": "text"
      },
      "source": [
        "## Define cost function\n",
        "\n",
        "Define cost with respect to predictions and labels."
      ]
    },
    {
      "cell_type": "markdown",
      "metadata": {
        "id": "DQIf2i2MqdFF",
        "colab_type": "text"
      },
      "source": [
        "Define the cost function as the cross entropy"
      ]
    },
    {
      "cell_type": "code",
      "metadata": {
        "id": "7fh0iF0tkCgu",
        "colab_type": "code",
        "outputId": "d10ff9d2-81c8-404a-983c-b7239399bcf7",
        "colab": {
          "base_uri": "https://localhost:8080/",
          "height": 173
        }
      },
      "source": [
        "cost = tf.reduce_mean(tf.nn.softmax_cross_entropy_with_logits(logits=logits, labels=y))"
      ],
      "execution_count": 14,
      "outputs": [
        {
          "output_type": "stream",
          "text": [
            "WARNING:tensorflow:From <ipython-input-14-dbc53ffcaf21>:1: softmax_cross_entropy_with_logits (from tensorflow.python.ops.nn_ops) is deprecated and will be removed in a future version.\n",
            "Instructions for updating:\n",
            "\n",
            "Future major versions of TensorFlow will allow gradients to flow\n",
            "into the labels input on backprop by default.\n",
            "\n",
            "See `tf.nn.softmax_cross_entropy_with_logits_v2`.\n",
            "\n"
          ],
          "name": "stdout"
        }
      ]
    },
    {
      "cell_type": "markdown",
      "metadata": {
        "id": "VoDeYUuEkCgy",
        "colab_type": "text"
      },
      "source": [
        "## Define optimizer\n",
        "\n",
        "Adam is recommended"
      ]
    },
    {
      "cell_type": "markdown",
      "metadata": {
        "id": "K-crocCgrV7S",
        "colab_type": "text"
      },
      "source": [
        "Define the optimizer as Adam Optimizer"
      ]
    },
    {
      "cell_type": "code",
      "metadata": {
        "id": "melxVSfhkCgy",
        "colab_type": "code",
        "colab": {}
      },
      "source": [
        "optimizer = tf.train.AdamOptimizer().minimize(cost)\n"
      ],
      "execution_count": 0,
      "outputs": []
    },
    {
      "cell_type": "markdown",
      "metadata": {
        "id": "QOacmPeokCg2",
        "colab_type": "text"
      },
      "source": [
        "## Define performance measures"
      ]
    },
    {
      "cell_type": "markdown",
      "metadata": {
        "id": "53-zk7YosGvU",
        "colab_type": "text"
      },
      "source": [
        "The find the number of correct predictions and calculate the overall accuracy"
      ]
    },
    {
      "cell_type": "code",
      "metadata": {
        "id": "eKNDvGpQkCg3",
        "colab_type": "code",
        "colab": {}
      },
      "source": [
        "correct_prediction = tf.equal(tf.argmax(prediction, axis=1), tf.argmax(y, axis=1))\n",
        "accuracy = tf.reduce_mean(tf.cast(correct_prediction, tf.float32))"
      ],
      "execution_count": 0,
      "outputs": []
    },
    {
      "cell_type": "markdown",
      "metadata": {
        "id": "1pmGstWmkCg6",
        "colab_type": "text"
      },
      "source": [
        "## Create TensorFlow session\n"
      ]
    },
    {
      "cell_type": "code",
      "metadata": {
        "id": "EZJ2PnrikCg6",
        "colab_type": "code",
        "colab": {}
      },
      "source": [
        "session = tf.Session()"
      ],
      "execution_count": 0,
      "outputs": []
    },
    {
      "cell_type": "markdown",
      "metadata": {
        "id": "ef_wSBuokChA",
        "colab_type": "text"
      },
      "source": [
        "## Initialize variables\n",
        "\n",
        "The variables for `weights`,`filters` and `biases` must be initialized before we start optimizing them."
      ]
    },
    {
      "cell_type": "code",
      "metadata": {
        "id": "dpqIeys5kChA",
        "colab_type": "code",
        "outputId": "228416c2-1a39-4428-c2e7-b61b8d700617",
        "colab": {
          "base_uri": "https://localhost:8080/",
          "height": 88
        }
      },
      "source": [
        "init = tf.initialize_all_variables()\n",
        "session.run(init)"
      ],
      "execution_count": 18,
      "outputs": [
        {
          "output_type": "stream",
          "text": [
            "WARNING:tensorflow:From /tensorflow-1.15.2/python3.6/tensorflow_core/python/util/tf_should_use.py:198: initialize_all_variables (from tensorflow.python.ops.variables) is deprecated and will be removed after 2017-03-02.\n",
            "Instructions for updating:\n",
            "Use `tf.global_variables_initializer` instead.\n"
          ],
          "name": "stdout"
        }
      ]
    },
    {
      "cell_type": "markdown",
      "metadata": {
        "id": "sc03nx8ukChD",
        "colab_type": "text"
      },
      "source": [
        "## Define train function\n",
        "\n",
        "Don't forget to use batches since dataset is large."
      ]
    },
    {
      "cell_type": "markdown",
      "metadata": {
        "id": "fy4u59LDkChD",
        "colab_type": "text"
      },
      "source": [
        "Hint : One of the simplest way to define batch is\n",
        "\n",
        "`for b in range(dataset_size//batch_size):      \n",
        "    x_batch = x_train[b * batch_size : (b+1) * batch_size]`"
      ]
    },
    {
      "cell_type": "code",
      "metadata": {
        "id": "Og0ML2U5_nEn",
        "colab_type": "code",
        "colab": {}
      },
      "source": [
        "train_accuracy_on_epoch = []\n",
        "train_loss_on_epoch = []\n",
        "\n",
        "test_accuracy_on_epoch = []\n",
        "test_loss_on_epoch = []\n",
        "\n"
      ],
      "execution_count": 0,
      "outputs": []
    },
    {
      "cell_type": "markdown",
      "metadata": {
        "id": "NUFkHKuqtIzy",
        "colab_type": "text"
      },
      "source": [
        "The train function that inputs a batch to the network and gets the accuracy and loss. Then, at the end of each batch, it runs the network with the test set."
      ]
    },
    {
      "cell_type": "code",
      "metadata": {
        "id": "9I7PNilCkChE",
        "colab_type": "code",
        "colab": {}
      },
      "source": [
        "def train(epoch_num, batch_size):\n",
        "  for i in range(epoch_num):\n",
        "    batch_loss = []\n",
        "    batch_acc = []\n",
        "    for b in range(len(x_train)//batch_size): \n",
        "      x_batch = x_train[b * batch_size : (b+1) * batch_size]  \n",
        "      y_batch = y_train[b * batch_size : (b+1) * batch_size]\n",
        "      _, acc, loss = session.run([optimizer, accuracy, cost], feed_dict={x:x_batch, y: y_batch, dropout:dropout_rate})\n",
        "      batch_loss.append(loss)\n",
        "      batch_acc.append(acc)\n",
        "      \n",
        "    train_accuracy_on_epoch.append(np.mean(np.array(batch_acc)))\n",
        "    train_loss_on_epoch.append(np.mean(np.array(batch_loss)))\n",
        "    \n",
        "    acc, loss = test(x_test, y_test, i + 1)\n",
        "    test_accuracy_on_epoch.append(acc)\n",
        "    test_loss_on_epoch.append(loss)\n",
        "    "
      ],
      "execution_count": 0,
      "outputs": []
    },
    {
      "cell_type": "markdown",
      "metadata": {
        "id": "v_U44nWwkChH",
        "colab_type": "text"
      },
      "source": [
        "## Define test function"
      ]
    },
    {
      "cell_type": "markdown",
      "metadata": {
        "id": "tRmH8ZqrtfLa",
        "colab_type": "text"
      },
      "source": [
        "The test function taht feeds the test set to the network. We specify dropout to be 1.0 to avoid it."
      ]
    },
    {
      "cell_type": "code",
      "metadata": {
        "id": "IBVgCRafkChH",
        "colab_type": "code",
        "colab": {}
      },
      "source": [
        "def test(x_set, y_set, epoch_no):\n",
        "  test_acc, loss = session.run([accuracy, cost], feed_dict={x: x_set, y: y_set, dropout:1.0})\n",
        "  print(\"Epoch:{} Accuracy:{} Loss:{} \".format(epoch_no, test_acc, loss))\n",
        "  return test_acc, loss\n"
      ],
      "execution_count": 0,
      "outputs": []
    },
    {
      "cell_type": "markdown",
      "metadata": {
        "id": "m0w-x1jokChK",
        "colab_type": "text"
      },
      "source": [
        "## Performance before training\n",
        "\n",
        "The accuracy is expected to be around 10%"
      ]
    },
    {
      "cell_type": "code",
      "metadata": {
        "id": "JFNpQ0rGkChK",
        "colab_type": "code",
        "outputId": "c40a9c50-27d2-4e57-84e2-5e9027d9c128",
        "colab": {
          "base_uri": "https://localhost:8080/",
          "height": 34
        }
      },
      "source": [
        "acc, loss = test(x_test, y_test, 0)\n",
        "test_accuracy_on_epoch.append(acc)"
      ],
      "execution_count": 22,
      "outputs": [
        {
          "output_type": "stream",
          "text": [
            "Epoch 0: Accuracy:0.08990000188350677 Loss:3.3324038982391357\n"
          ],
          "name": "stdout"
        }
      ]
    },
    {
      "cell_type": "markdown",
      "metadata": {
        "id": "Sdxj_oc_kChN",
        "colab_type": "text"
      },
      "source": [
        "## Performance after training\n",
        "\n",
        "Measure training and test accuracy for at least 10 epochs, show it on a epoch/accuracy graph. The network is expected to reach around 70% accuracy at 10 epochs. "
      ]
    },
    {
      "cell_type": "markdown",
      "metadata": {
        "id": "RatU5YWt37er",
        "colab_type": "text"
      },
      "source": [
        "Train the network with batch size being 1000"
      ]
    },
    {
      "cell_type": "code",
      "metadata": {
        "id": "NoX274wlkChO",
        "colab_type": "code",
        "outputId": "6fa50f0b-a2ac-4e2a-f3e0-b6395e846a81",
        "colab": {
          "base_uri": "https://localhost:8080/",
          "height": 224
        }
      },
      "source": [
        "epoch_number = 10\n",
        "batch_size = 1000\n",
        "start_time = time()\n",
        "train(epoch_number, batch_size)\n",
        "end_time = time()\n",
        "print(\"Took {} seconds to train for {} epochs with batch size {}. Time consumed for 1 epochs is {} seconds\".format(end_time - start_time, epoch_number, batch_size, (end_time - start_time)/epoch_number))"
      ],
      "execution_count": 23,
      "outputs": [
        {
          "output_type": "stream",
          "text": [
            "Epoch 1: Accuracy:0.4244000017642975 Loss:1.6495277881622314\n",
            "Epoch 2: Accuracy:0.5180000066757202 Loss:1.406653642654419\n",
            "Epoch 3: Accuracy:0.5738000273704529 Loss:1.2588708400726318\n",
            "Epoch 4: Accuracy:0.6039999723434448 Loss:1.1545559167861938\n",
            "Epoch 5: Accuracy:0.6290000081062317 Loss:1.079553484916687\n",
            "Epoch 6: Accuracy:0.6406000256538391 Loss:1.0298566818237305\n",
            "Epoch 7: Accuracy:0.6546000242233276 Loss:0.9887564182281494\n",
            "Epoch 8: Accuracy:0.6578999757766724 Loss:0.9658730626106262\n",
            "Epoch 9: Accuracy:0.6790000200271606 Loss:0.9271960258483887\n",
            "Epoch 10: Accuracy:0.6802999973297119 Loss:0.914101243019104\n",
            "Took 25.825029611587524 seconds to train for 10 epochs with batch size 1000. Time consumed for 1 epochs is 2.5825029611587524 seconds\n"
          ],
          "name": "stdout"
        }
      ]
    },
    {
      "cell_type": "markdown",
      "metadata": {
        "id": "m9BN9w0F4B3a",
        "colab_type": "text"
      },
      "source": [
        "# Show the epoch vs accuracy and loss graphs for train and test set"
      ]
    },
    {
      "cell_type": "code",
      "metadata": {
        "id": "F0ZIlN3q_7h1",
        "colab_type": "code",
        "outputId": "ee3f37de-6fbe-4689-d8ac-7b11c076a2f1",
        "colab": {
          "base_uri": "https://localhost:8080/",
          "height": 607
        }
      },
      "source": [
        "plt.plot(train_accuracy_on_epoch)\n",
        "plt.xlabel(\"Epoch\")\n",
        "plt.ylabel(\"Accuracy\")\n",
        "plt.ylim(top=1.0, bottom=0.0)\n",
        "plt.title(\"Accuracy plot\")\n",
        "plt.show()\n",
        "print(\"Accuracy on train-set: {0:.1%}\".format(train_accuracy_on_epoch[-1]))\n",
        "\n",
        "plt.plot(train_loss_on_epoch)\n",
        "plt.xlabel(\"Epoch\")\n",
        "plt.ylabel(\"Loss\")\n",
        "plt.title(\"Loss plot\")\n",
        "plt.show()\n",
        "print(\"Loss on train-set: {}\".format(train_loss_on_epoch[-1]))\n"
      ],
      "execution_count": 24,
      "outputs": [
        {
          "output_type": "display_data",
          "data": {
            "image/png": "[encoded data removed]",
            "text/plain": [
              "<Figure size 432x288 with 1 Axes>"
            ]
          },
          "metadata": {
            "tags": [],
            "needs_background": "light"
          }
        },
        {
          "output_type": "stream",
          "text": [
            "Accuracy on train-set: 57.4%\n"
          ],
          "name": "stdout"
        },
        {
          "output_type": "display_data",
          "data": {
            "image/png": "[encoded data removed]",
            "text/plain": [
              "<Figure size 432x288 with 1 Axes>"
            ]
          },
          "metadata": {
            "tags": [],
            "needs_background": "light"
          }
        },
        {
          "output_type": "stream",
          "text": [
            "Loss on train-set: 1.1697219610214233\n"
          ],
          "name": "stdout"
        }
      ]
    },
    {
      "cell_type": "code",
      "metadata": {
        "id": "RqJVU25yAm9Z",
        "colab_type": "code",
        "outputId": "727a8ec8-6a01-4d9f-ee0f-fe9761c95bfd",
        "colab": {
          "base_uri": "https://localhost:8080/",
          "height": 607
        }
      },
      "source": [
        "plt.plot(test_accuracy_on_epoch)\n",
        "plt.xlabel(\"Epoch\")\n",
        "plt.ylabel(\"Accuracy\")\n",
        "plt.ylim(top=1.0, bottom=0.0)\n",
        "plt.title(\"Accuracy plot\")\n",
        "plt.show()\n",
        "print(\"Accuracy on test-set: {0:.1%}\".format(test_accuracy_on_epoch[-1]))\n",
        "\n",
        "plt.plot(test_loss_on_epoch)\n",
        "plt.xlabel(\"Epoch\")\n",
        "plt.ylabel(\"Loss\")\n",
        "plt.title(\"Loss plot\")\n",
        "plt.show()\n",
        "print(\"Loss on test-set: {}\".format(test_loss_on_epoch[-1]))\n"
      ],
      "execution_count": 25,
      "outputs": [
        {
          "output_type": "display_data",
          "data": {
            "image/png": "[encoded data removed]",
            "text/plain": [
              "<Figure size 432x288 with 1 Axes>"
            ]
          },
          "metadata": {
            "tags": [],
            "needs_background": "light"
          }
        },
        {
          "output_type": "stream",
          "text": [
            "Accuracy on test-set: 68.0%\n"
          ],
          "name": "stdout"
        },
        {
          "output_type": "display_data",
          "data": {
            "image/png": "[encoded data removed]",
            "text/plain": [
              "<Figure size 432x288 with 1 Axes>"
            ]
          },
          "metadata": {
            "tags": [],
            "needs_background": "light"
          }
        },
        {
          "output_type": "stream",
          "text": [
            "Loss on test-set: 0.914101243019104\n"
          ],
          "name": "stdout"
        }
      ]
    },
    {
      "cell_type": "markdown",
      "metadata": {
        "id": "JA2Q2P1fkChQ",
        "colab_type": "text"
      },
      "source": [
        "## Close the session"
      ]
    },
    {
      "cell_type": "code",
      "metadata": {
        "id": "Tul41j-UkChR",
        "colab_type": "code",
        "colab": {}
      },
      "source": [
        "session.close()"
      ],
      "execution_count": 0,
      "outputs": []
    },
    {
      "cell_type": "markdown",
      "metadata": {
        "id": "bOIOZ5CCkChb",
        "colab_type": "text"
      },
      "source": [
        "## Discussion"
      ]
    },
    {
      "cell_type": "markdown",
      "metadata": {
        "id": "AAGjsf3fkChc",
        "colab_type": "text"
      },
      "source": [
        "In this part of the assignment, I have used the tf.nn and tf libraries to implement a CNN to classify the images of the CIFAR10 dataset. The network contains several types of layers:\n",
        "\n",
        "\n",
        "*   Convolutional Layers\n",
        "*   Max Pooling Layers\n",
        "*   Batch Normalization Layers\n",
        "*   Flattening Layer\n",
        "*   Fully Connected Layers\n",
        "*   Dropout Layers\n",
        "\n",
        "All the weights of the network are initialized with Xavier initialization method which seems to perform considerably better compared to the random uniform or random normal initializations. The convolutional layers are always followed by adding bias, batch normalization and ReLU activation. The batch normalization normalizes the batch of activations to a 0 mean and 1 variance which fights the internal covariate shift. It also makes the network faster and on top of all regularizes the tensor which can make finding correlations easier. The max pooling layers subsample the activations taken from the convolutional layers, who change the depth of the activation maps by having different numbers of kernels. The feature extraction part of the network is constituted by 3 convolutional and 3 max pooling layers. The classification is done inside a fully connected neural network which starts with the flattening layer which flattens the activation map taken from the last pooling layer of the feature extraction. The dense network contains one hidden layer that also contains a dropout layer which randomly deactivates neurons to prevent overfitting, by letting the network to find different paths to a decision. The last layer applies softmax activation to the logits and gives the predictions. As the cost function, cross entropy was chosen. The learning process was set to minimize this cost function with the help of the Adam optimizer. \n",
        "\n",
        "This was the standard implementation of the given CNN, therefore there are a relatively small amount of parameters for the model to be accurate more than 75 percent. In fact, after 100 epochs, the accuracy graph seems to go downwards as the model starts to overfit itself to the train set too much such that it cannot generalize its predictions to the unseen test set. The network is trained at a rate speed of around 2.5s/epoch which translates to 2.5e-10s/sample. This speed is acceptable altough the network is highly shallow compared to the state of the art implementations. The accuracy of the CNN changes between 63-70% for the test set after training for 10 epochs, while interestingly having a considerably smaller 48-51% accuracy on the training set. This probably implies a mistake while computing the training accuracy as it is not resonable to have such low training accuracy while having a respectable degree of test accuracy. On the other hand, this may imply some redundant regularization on the training data.\n",
        "\n",
        "Overall, this work showed us the low level usage of the tensorflow library. Before moving forward with the more optimized, easier to implement high level libraries such as tf.keras, it is better to learn the basic mechanics of the deep learning practice."
      ]
    },
    {
      "cell_type": "markdown",
      "metadata": {
        "id": "B0gHtAc6kChd",
        "colab_type": "text"
      },
      "source": [
        "## References\n",
        "\n",
        "[1] [Arm Community](https://community.arm.com)"
      ]
    }
  ]
}