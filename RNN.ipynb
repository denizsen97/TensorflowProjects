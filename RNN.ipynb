{
  "nbformat": 4,
  "nbformat_minor": 0,
  "metadata": {
    "kernelspec": {
      "display_name": "Python 3",
      "language": "python",
      "name": "python3"
    },
    "language_info": {
      "codemirror_mode": {
        "name": "ipython",
        "version": 3
      },
      "file_extension": ".py",
      "mimetype": "text/x-python",
      "name": "python",
      "nbconvert_exporter": "python",
      "pygments_lexer": "ipython3",
      "version": "3.6.8"
    },
    "colab": {
      "name": "Question_3.ipynb",
      "provenance": [],
      "collapsed_sections": [],
      "toc_visible": true
    }
  },
  "cells": [
    {
      "cell_type": "markdown",
      "metadata": {
        "id": "IVwAWlIT9zll",
        "colab_type": "text"
      },
      "source": [
        "# Time Series with RNN\n",
        "\n",
        "## Fill the cells marked with # TODO"
      ]
    },
    {
      "cell_type": "markdown",
      "metadata": {
        "id": "iW-ZvXjk9zln",
        "colab_type": "text"
      },
      "source": [
        "** Import numpy pandas and matplotlib **"
      ]
    },
    {
      "cell_type": "code",
      "metadata": {
        "id": "Noy7hhSF9zln",
        "colab_type": "code",
        "colab": {}
      },
      "source": [
        "import numpy as np\n",
        "import pandas as pd\n",
        "\n",
        "import matplotlib.pyplot as plt\n",
        "%matplotlib inline"
      ],
      "execution_count": 0,
      "outputs": []
    },
    {
      "cell_type": "markdown",
      "metadata": {
        "id": "AvlVDzYi9zlr",
        "colab_type": "text"
      },
      "source": [
        "** Use pandas to read the csv of the crop.csv file and set index_col='Month' **"
      ]
    },
    {
      "cell_type": "code",
      "metadata": {
        "id": "1GGoZJYG9zls",
        "colab_type": "code",
        "colab": {}
      },
      "source": [
        "# TODO\n",
        "crop = pd.read_csv(\"crop.csv\", index_col=\"Month\")\n"
      ],
      "execution_count": 0,
      "outputs": []
    },
    {
      "cell_type": "markdown",
      "metadata": {
        "id": "oZGmNh5D9zlx",
        "colab_type": "text"
      },
      "source": [
        "** Check out the head of the dataframe**"
      ]
    },
    {
      "cell_type": "code",
      "metadata": {
        "id": "XdtD9u499zly",
        "colab_type": "code",
        "outputId": "5dcbed48-551d-4a0a-e923-a490275aa2c3",
        "colab": {
          "base_uri": "https://localhost:8080/",
          "height": 235
        }
      },
      "source": [
        "crop.head()"
      ],
      "execution_count": 0,
      "outputs": [
        {
          "output_type": "execute_result",
          "data": {
            "text/html": [
              "<div>\n",
              "<style scoped>\n",
              "    .dataframe tbody tr th:only-of-type {\n",
              "        vertical-align: middle;\n",
              "    }\n",
              "\n",
              "    .dataframe tbody tr th {\n",
              "        vertical-align: top;\n",
              "    }\n",
              "\n",
              "    .dataframe thead th {\n",
              "        text-align: right;\n",
              "    }\n",
              "</style>\n",
              "<table border=\"1\" class=\"dataframe\">\n",
              "  <thead>\n",
              "    <tr style=\"text-align: right;\">\n",
              "      <th></th>\n",
              "      <th>Crop</th>\n",
              "    </tr>\n",
              "    <tr>\n",
              "      <th>Month</th>\n",
              "      <th></th>\n",
              "    </tr>\n",
              "  </thead>\n",
              "  <tbody>\n",
              "    <tr>\n",
              "      <th>1962-01-01 01:00:00</th>\n",
              "      <td>589.0</td>\n",
              "    </tr>\n",
              "    <tr>\n",
              "      <th>1962-02-01 01:00:00</th>\n",
              "      <td>561.0</td>\n",
              "    </tr>\n",
              "    <tr>\n",
              "      <th>1962-03-01 01:00:00</th>\n",
              "      <td>640.0</td>\n",
              "    </tr>\n",
              "    <tr>\n",
              "      <th>1962-04-01 01:00:00</th>\n",
              "      <td>656.0</td>\n",
              "    </tr>\n",
              "    <tr>\n",
              "      <th>1962-05-01 01:00:00</th>\n",
              "      <td>727.0</td>\n",
              "    </tr>\n",
              "  </tbody>\n",
              "</table>\n",
              "</div>"
            ],
            "text/plain": [
              "                      Crop\n",
              "Month                     \n",
              "1962-01-01 01:00:00  589.0\n",
              "1962-02-01 01:00:00  561.0\n",
              "1962-03-01 01:00:00  640.0\n",
              "1962-04-01 01:00:00  656.0\n",
              "1962-05-01 01:00:00  727.0"
            ]
          },
          "metadata": {
            "tags": []
          },
          "execution_count": 3
        }
      ]
    },
    {
      "cell_type": "markdown",
      "metadata": {
        "id": "-GamSAEu9zl1",
        "colab_type": "text"
      },
      "source": [
        "** Make the index a time series by using: **"
      ]
    },
    {
      "cell_type": "code",
      "metadata": {
        "id": "4A3dnujf9zl2",
        "colab_type": "code",
        "colab": {}
      },
      "source": [
        "crop.index = pd.to_datetime(crop.index)"
      ],
      "execution_count": 0,
      "outputs": []
    },
    {
      "cell_type": "markdown",
      "metadata": {
        "id": "CN0RN6bG9zl5",
        "colab_type": "text"
      },
      "source": [
        "** Plot out the time series data. **"
      ]
    },
    {
      "cell_type": "code",
      "metadata": {
        "id": "bQgerkfD9zl6",
        "colab_type": "code",
        "outputId": "7bdc6b25-5f66-453b-dbfd-07d88c4c934c",
        "colab": {
          "base_uri": "https://localhost:8080/",
          "height": 286
        }
      },
      "source": [
        "crop.plot()"
      ],
      "execution_count": 0,
      "outputs": [
        {
          "output_type": "execute_result",
          "data": {
            "text/plain": [
              "<matplotlib.axes._subplots.AxesSubplot at 0x7f5b36fdf710>"
            ]
          },
          "metadata": {
            "tags": []
          },
          "execution_count": 5
        },
        {
          "output_type": "display_data",
          "data": {
            "image/png": "[encoded data removed]",
            "text/plain": [
              "<Figure size 432x288 with 1 Axes>"
            ]
          },
          "metadata": {
            "tags": [],
            "needs_background": "light"
          }
        }
      ]
    },
    {
      "cell_type": "markdown",
      "metadata": {
        "id": "KW3Q2X0E9zl9",
        "colab_type": "text"
      },
      "source": [
        "___"
      ]
    },
    {
      "cell_type": "markdown",
      "metadata": {
        "id": "VpdBENvj9zl-",
        "colab_type": "text"
      },
      "source": [
        "### Train Test Split\n",
        "\n",
        "** Let's attempt to predict a year's worth of data. (12 months or 12 steps into the future) **\n",
        "\n",
        "** Create a test train split using indexing (hint: use .head() or tail() or .iloc[]). We don't want a random train test split, we want to specify that the test set is the last 12 months of data is the test set, with everything before it is the training. **"
      ]
    },
    {
      "cell_type": "code",
      "metadata": {
        "id": "xnxifk7T9zl-",
        "colab_type": "code",
        "outputId": "5f60e90c-f18b-48e0-d23d-fc85be0a21cb",
        "colab": {
          "base_uri": "https://localhost:8080/",
          "height": 153
        }
      },
      "source": [
        "crop.info()"
      ],
      "execution_count": 0,
      "outputs": [
        {
          "output_type": "stream",
          "text": [
            "<class 'pandas.core.frame.DataFrame'>\n",
            "DatetimeIndex: 168 entries, 1962-01-01 01:00:00 to 1975-12-01 01:00:00\n",
            "Data columns (total 1 columns):\n",
            " #   Column  Non-Null Count  Dtype  \n",
            "---  ------  --------------  -----  \n",
            " 0   Crop    168 non-null    float64\n",
            "dtypes: float64(1)\n",
            "memory usage: 2.6 KB\n"
          ],
          "name": "stdout"
        }
      ]
    },
    {
      "cell_type": "code",
      "metadata": {
        "id": "EEO8P4uR9zmE",
        "colab_type": "code",
        "colab": {}
      },
      "source": [
        "train_set = crop.iloc[:-13, :]"
      ],
      "execution_count": 0,
      "outputs": []
    },
    {
      "cell_type": "code",
      "metadata": {
        "id": "Xql6r4JG9zmG",
        "colab_type": "code",
        "colab": {}
      },
      "source": [
        "test_set = crop.iloc[-13:, :]"
      ],
      "execution_count": 0,
      "outputs": []
    },
    {
      "cell_type": "markdown",
      "metadata": {
        "id": "DL2tHFFo9zmJ",
        "colab_type": "text"
      },
      "source": [
        "### Scale the Data\n",
        "\n",
        "** Use sklearn.preprocessing to scale the data using the MinMaxScaler. Remember to only fit_transform on the training data, then transform the test data. You shouldn't fit on the test data as well, otherwise you are assuming you would know about future behavior!**"
      ]
    },
    {
      "cell_type": "code",
      "metadata": {
        "id": "fZ4jsHre9zmK",
        "colab_type": "code",
        "colab": {}
      },
      "source": [
        "from sklearn.preprocessing import MinMaxScaler"
      ],
      "execution_count": 0,
      "outputs": []
    },
    {
      "cell_type": "code",
      "metadata": {
        "id": "NHcv6xJq9zmN",
        "colab_type": "code",
        "colab": {}
      },
      "source": [
        "scaler = MinMaxScaler()"
      ],
      "execution_count": 0,
      "outputs": []
    },
    {
      "cell_type": "code",
      "metadata": {
        "id": "S6d1BZZk9zmR",
        "colab_type": "code",
        "colab": {}
      },
      "source": [
        "train_scaled = scaler.fit_transform(train_set)"
      ],
      "execution_count": 0,
      "outputs": []
    },
    {
      "cell_type": "code",
      "metadata": {
        "id": "kMhPbVah9zmU",
        "colab_type": "code",
        "outputId": "82e5eefd-d059-4a78-de58-7e858bc208d2",
        "colab": {
          "base_uri": "https://localhost:8080/",
          "height": 34
        }
      },
      "source": [
        "test_scaled = scaler.transform(test_set)\n",
        "print(test_scaled.shape)"
      ],
      "execution_count": 0,
      "outputs": [
        {
          "output_type": "stream",
          "text": [
            "(13, 1)\n"
          ],
          "name": "stdout"
        }
      ]
    },
    {
      "cell_type": "markdown",
      "metadata": {
        "id": "f-fgkFNr9zmZ",
        "colab_type": "text"
      },
      "source": [
        "## Batch Function\n",
        "\n",
        "** We'll need a function that can feed batches of the training data. Remember to reference the previous batch method from the lecture for hints. Try to fill out the function template below, this is a pretty hard step, so feel free to reference the solutions! **"
      ]
    },
    {
      "cell_type": "code",
      "metadata": {
        "id": "U6w3g5tm9zmZ",
        "colab_type": "code",
        "outputId": "c7698555-695d-4f0e-f038-e85255490e1a",
        "colab": {
          "base_uri": "https://localhost:8080/",
          "height": 51
        }
      },
      "source": [
        "def next_batch(training_data,batch_size,steps):\n",
        "    \"\"\"\n",
        "    INPUT: Data, Batch Size, Time Steps per batch\n",
        "    OUTPUT: A tuple of y time series results. y[:,:-1] and y[:,1:]\n",
        "    \"\"\"\n",
        "    data = np.zeros(shape=(batch_size, steps + 1, 1))\n",
        "    for i in range(batch_size):\n",
        "      # STEP 1: Use np.random.randint to set a random starting point index for the batch.\n",
        "      # Remember that each batch needs have the same number of steps in it.\n",
        "      # This means you should limit the starting point to len(data)-steps\n",
        "      index = np.random.randint(0, training_data.shape[0] - steps - 1)\n",
        "      # STEP 2: Now that you have a starting index you'll need to index the data from\n",
        "      # the random start to random start + steps. Then reshape this data to be (1,steps)\n",
        "      data[i, :, :] = np.reshape(training_data[index:index+steps+1, :], newshape=(1, steps+1, 1))\n",
        "      # STEP 3: Return the batches. You'll have two batches to return y[:,:-1] and y[:,1:]\n",
        "      # You'll need to reshape these into tensors for the RNN. Depending on your indexing it\n",
        "      # will be either .reshape(-1,steps-1,1) or .reshape(-1,steps,1)\n",
        "    return data[:, :-1, :], data[:, 1:, :]\n",
        "    \n",
        "a, b = next_batch(train_scaled, 2, 12)\n",
        "print(a.shape)\n",
        "print(b.shape)"
      ],
      "execution_count": 0,
      "outputs": [
        {
          "output_type": "stream",
          "text": [
            "(2, 12, 1)\n",
            "(2, 12, 1)\n"
          ],
          "name": "stdout"
        }
      ]
    },
    {
      "cell_type": "markdown",
      "metadata": {
        "id": "gj4xbz3K9zmc",
        "colab_type": "text"
      },
      "source": [
        "## Setting Up The RNN Model"
      ]
    },
    {
      "cell_type": "markdown",
      "metadata": {
        "id": "5JACCj4o9zmd",
        "colab_type": "text"
      },
      "source": [
        "** Import TensorFlow **"
      ]
    },
    {
      "cell_type": "code",
      "metadata": {
        "id": "r0ygdQFN9zmd",
        "colab_type": "code",
        "outputId": "d83c6864-3b5e-469c-8715-334ada51b8c7",
        "colab": {
          "base_uri": "https://localhost:8080/",
          "height": 102
        }
      },
      "source": [
        "%tensorflow_version 1.x\" before \"import tensorflow\n",
        "import tensorflow as tf\n",
        "from tensorflow.contrib import rnn"
      ],
      "execution_count": 0,
      "outputs": [
        {
          "output_type": "stream",
          "text": [
            "`%tensorflow_version` only switches the major version: 1.x or 2.x.\n",
            "You set: `1.x\" before \"import tensorflow`. This will be interpreted as: `1.x`.\n",
            "\n",
            "\n",
            "TensorFlow 1.x selected.\n"
          ],
          "name": "stdout"
        }
      ]
    },
    {
      "cell_type": "markdown",
      "metadata": {
        "id": "LzzmykrU9zmi",
        "colab_type": "text"
      },
      "source": [
        "### The Constants\n",
        "\n",
        "** Define the constants in a single cell. You'll need the following (you can change some of these): **\n",
        "* Number of Inputs (1)\n",
        "* Number of Time Steps (12)\n",
        "* Number of Neurons per Layer (100)\n",
        "* Number of Outputs (1)\n",
        "* Learning Rate (0.003)\n",
        "* Number of Iterations for Training (4000)\n",
        "* Batch Size (1)"
      ]
    },
    {
      "cell_type": "code",
      "metadata": {
        "id": "0v4pjSXa9zmj",
        "colab_type": "code",
        "colab": {}
      },
      "source": [
        "INPUT_NUMBER = 1\n",
        "TIME_STEPS_NUMBER = 12\n",
        "NEURONS_PER_LAYER_NUMBER = 100\n",
        "OUTPUTS_NUMBER = 1\n",
        "LR = 0.003\n",
        "TRAIN_ITERATION_NUMBER = 4000\n",
        "BATCH_SIZE = 1"
      ],
      "execution_count": 0,
      "outputs": []
    },
    {
      "cell_type": "markdown",
      "metadata": {
        "id": "zdfDcvmo9zmn",
        "colab_type": "text"
      },
      "source": [
        "** Create Placeholders for X and y. (You can change the variable names if you want). The shape for these placeholders should be [None,num_time_steps,num_inputs] and [None, num_time_steps, num_outputs].**  "
      ]
    },
    {
      "cell_type": "code",
      "metadata": {
        "id": "GiNAUKkL9zmo",
        "colab_type": "code",
        "colab": {}
      },
      "source": [
        "X = tf.placeholder(tf.float32, shape=[None, TIME_STEPS_NUMBER, INPUT_NUMBER], name=\"input_series\")\n",
        "y = tf.placeholder(tf.float32, shape=[None, TIME_STEPS_NUMBER, OUTPUTS_NUMBER], name=\"output_value\")"
      ],
      "execution_count": 0,
      "outputs": []
    },
    {
      "cell_type": "markdown",
      "metadata": {
        "id": "08DtLLbI9zmr",
        "colab_type": "text"
      },
      "source": [
        "** Now create the RNN Layer, you have complete freedom over this, use tf.contrib.rnn and choose anything you want, OutputProjectionWrappers, BasicRNNCells, BasicLSTMCells, MultiRNNCell, GRUCell etc... Keep in mind not every combination will work well! (Hint: use an Outputprojection Wrapper around a basic LSTM cell with relu activation.**"
      ]
    },
    {
      "cell_type": "code",
      "metadata": {
        "id": "FNloBxqBZtsP",
        "colab_type": "code",
        "colab": {}
      },
      "source": [
        ""
      ],
      "execution_count": 0,
      "outputs": []
    },
    {
      "cell_type": "code",
      "metadata": {
        "id": "_iHirbWQ9zms",
        "colab_type": "code",
        "outputId": "b828c1d9-0041-43f2-b804-46fc2afcd93a",
        "colab": {
          "base_uri": "https://localhost:8080/",
          "height": 139
        }
      },
      "source": [
        "CELL_TYPE = \"Multi_3LSTM\"\n",
        "\n",
        "if CELL_TYPE is \"RNN\":\n",
        "  lstm_cell = rnn.OutputProjectionWrapper(rnn.BasicRNNCell(NEURONS_PER_LAYER_NUMBER, activation=tf.nn.relu), output_size=OUTPUTS_NUMBER)\n",
        "elif CELL_TYPE is \"LSTM\":\n",
        "  lstm_cell = rnn.OutputProjectionWrapper(rnn.BasicLSTMCell(NEURONS_PER_LAYER_NUMBER, activation=tf.nn.relu), output_size=OUTPUTS_NUMBER)\n",
        "elif CELL_TYPE is \"GRU\":\n",
        "  lstm_cell = rnn.OutputProjectionWrapper(rnn.GRUCell(NEURONS_PER_LAYER_NUMBER, activation=tf.nn.relu), output_size=OUTPUTS_NUMBER)\n",
        "elif  \"Multi\" in CELL_TYPE:\n",
        "  cells = []\n",
        "  cells.append(rnn.OutputProjectionWrapper(rnn.BasicLSTMCell(NEURONS_PER_LAYER_NUMBER, activation=tf.nn.relu), output_size=OUTPUTS_NUMBER))\n",
        "  cells.append(rnn.OutputProjectionWrapper(rnn.BasicLSTMCell(NEURONS_PER_LAYER_NUMBER, activation=tf.nn.relu), output_size=OUTPUTS_NUMBER))\n",
        "  cells.append(rnn.OutputProjectionWrapper(rnn.BasicLSTMCell(NEURONS_PER_LAYER_NUMBER, activation=tf.nn.relu), output_size=OUTPUTS_NUMBER))\n",
        "\n",
        "\n",
        "  lstm_cell = rnn.MultiRNNCell(cells)"
      ],
      "execution_count": 0,
      "outputs": [
        {
          "output_type": "stream",
          "text": [
            "WARNING:tensorflow:From <ipython-input-17-fc1c1b2b1369>:11: BasicLSTMCell.__init__ (from tensorflow.python.ops.rnn_cell_impl) is deprecated and will be removed in a future version.\n",
            "Instructions for updating:\n",
            "This class is equivalent as tf.keras.layers.LSTMCell, and will be replaced by that in Tensorflow 2.0.\n",
            "WARNING:tensorflow:From <ipython-input-17-fc1c1b2b1369>:16: MultiRNNCell.__init__ (from tensorflow.python.ops.rnn_cell_impl) is deprecated and will be removed in a future version.\n",
            "Instructions for updating:\n",
            "This class is equivalent as tf.keras.layers.StackedRNNCells, and will be replaced by that in Tensorflow 2.0.\n"
          ],
          "name": "stdout"
        }
      ]
    },
    {
      "cell_type": "markdown",
      "metadata": {
        "id": "ZKXHRBWv9zmu",
        "colab_type": "text"
      },
      "source": [
        "** Now pass in the cells variable into tf.nn.dynamic_rnn, along with your first placeholder (X)**"
      ]
    },
    {
      "cell_type": "code",
      "metadata": {
        "id": "nB-8G6ld9zmu",
        "colab_type": "code",
        "outputId": "640e9b18-7d94-454e-ed2c-4f30d27657bb",
        "colab": {
          "base_uri": "https://localhost:8080/",
          "height": 241
        }
      },
      "source": [
        "outputs, states = tf.nn.dynamic_rnn(lstm_cell, X, dtype=tf.float32)"
      ],
      "execution_count": 0,
      "outputs": [
        {
          "output_type": "stream",
          "text": [
            "WARNING:tensorflow:From <ipython-input-18-92da4574ff3b>:1: dynamic_rnn (from tensorflow.python.ops.rnn) is deprecated and will be removed in a future version.\n",
            "Instructions for updating:\n",
            "Please use `keras.layers.RNN(cell)`, which is equivalent to this API\n",
            "WARNING:tensorflow:From /tensorflow-1.15.2/python3.6/tensorflow_core/python/ops/rnn_cell_impl.py:735: Layer.add_variable (from tensorflow.python.keras.engine.base_layer) is deprecated and will be removed in a future version.\n",
            "Instructions for updating:\n",
            "Please use `layer.add_weight` method instead.\n",
            "WARNING:tensorflow:From /tensorflow-1.15.2/python3.6/tensorflow_core/python/ops/rnn_cell_impl.py:739: calling Zeros.__init__ (from tensorflow.python.ops.init_ops) with dtype is deprecated and will be removed in a future version.\n",
            "Instructions for updating:\n",
            "Call initializer instance with the dtype argument instead of passing it to the constructor\n",
            "WARNING:tensorflow:From /tensorflow-1.15.2/python3.6/tensorflow_core/contrib/rnn/python/ops/core_rnn_cell.py:104: calling Constant.__init__ (from tensorflow.python.ops.init_ops) with dtype is deprecated and will be removed in a future version.\n",
            "Instructions for updating:\n",
            "Call initializer instance with the dtype argument instead of passing it to the constructor\n"
          ],
          "name": "stdout"
        }
      ]
    },
    {
      "cell_type": "code",
      "metadata": {
        "id": "CLH3FjnQKcuE",
        "colab_type": "code",
        "outputId": "c56a74f2-75da-4ed1-f595-f5d773a4ff11",
        "colab": {
          "base_uri": "https://localhost:8080/",
          "height": 34
        }
      },
      "source": [
        "outputs"
      ],
      "execution_count": 0,
      "outputs": [
        {
          "output_type": "execute_result",
          "data": {
            "text/plain": [
              "<tf.Tensor 'rnn/transpose_1:0' shape=(?, 12, 1) dtype=float32>"
            ]
          },
          "metadata": {
            "tags": []
          },
          "execution_count": 19
        }
      ]
    },
    {
      "cell_type": "markdown",
      "metadata": {
        "id": "la-R6YNm9zmy",
        "colab_type": "text"
      },
      "source": [
        "### Loss Function and Optimizer\n",
        "\n",
        "** Create a Mean Squared Error Loss Function and use it to minimize an AdamOptimizer, remember to pass in your learning rate. **"
      ]
    },
    {
      "cell_type": "code",
      "metadata": {
        "id": "ip2zW3cn9zmz",
        "colab_type": "code",
        "colab": {}
      },
      "source": [
        "loss = tf.reduce_mean(tf.squared_difference(outputs, y))\n",
        "optimizer = tf.train.AdamOptimizer(learning_rate=LR)\n",
        "train = optimizer.minimize(loss)"
      ],
      "execution_count": 0,
      "outputs": []
    },
    {
      "cell_type": "markdown",
      "metadata": {
        "id": "UJD7KXwc9zm2",
        "colab_type": "text"
      },
      "source": [
        "** Initialize the global variables **"
      ]
    },
    {
      "cell_type": "code",
      "metadata": {
        "id": "lbQkI3je9zm2",
        "colab_type": "code",
        "colab": {}
      },
      "source": [
        "init = tf.global_variables_initializer()"
      ],
      "execution_count": 0,
      "outputs": []
    },
    {
      "cell_type": "markdown",
      "metadata": {
        "id": "JRKgiK_T9zm4",
        "colab_type": "text"
      },
      "source": [
        "** Create an instance of tf.train.Saver() to save your model after training. **"
      ]
    },
    {
      "cell_type": "code",
      "metadata": {
        "id": "TlH1t5H19zm5",
        "colab_type": "code",
        "colab": {}
      },
      "source": [
        "saver = tf.train.Saver()"
      ],
      "execution_count": 0,
      "outputs": []
    },
    {
      "cell_type": "markdown",
      "metadata": {
        "id": "p5e8lVwt9zm-",
        "colab_type": "text"
      },
      "source": [
        "### Session\n",
        "\n",
        "** Run a tf.Session that trains on the batches created by your next_batch function. Also add an a loss evaluation for every 100 training iterations. **"
      ]
    },
    {
      "cell_type": "code",
      "metadata": {
        "id": "aEkl2OlKu19s",
        "colab_type": "code",
        "colab": {}
      },
      "source": [
        "from time import time\n",
        "train_losses = []\n",
        "validation_losses = []"
      ],
      "execution_count": 0,
      "outputs": []
    },
    {
      "cell_type": "code",
      "metadata": {
        "id": "zla3fRDK9zm_",
        "colab_type": "code",
        "outputId": "cfb17572-aa3d-4d4f-dd63-9804241a9f77",
        "colab": {
          "base_uri": "https://localhost:8080/",
          "height": 1000
        }
      },
      "source": [
        "with tf.Session() as sess:\n",
        "    sess.run(init)\n",
        "    \n",
        "    # TODO\n",
        "    for iteration in range(TRAIN_ITERATION_NUMBER):\n",
        "      start_time = time()\n",
        "      x_batch, y_batch = next_batch(train_scaled, BATCH_SIZE, TIME_STEPS_NUMBER)\n",
        "      _, train_loss = sess.run([train, loss], feed_dict={ X: x_batch, y: y_batch })\n",
        "      eval_time = time() - start_time\n",
        "      train_losses.append(train_loss)\n",
        "      #evaluate validation loss\n",
        "      if iteration % 100 == 0:\n",
        "        print(\"Training loss in iteration {}: {}, Elapsed Time:{}\".format(iteration, train_loss, eval_time))\n",
        "        test_data = np.reshape(test_scaled, newshape=(1, -1, 1))\n",
        "        val_loss = sess.run(loss, feed_dict={X: test_data[:, :-1,: ], y: test_data[:, 1:,: ]})\n",
        "        validation_losses.append(val_loss)\n",
        "        print(\"Validation loss in iteration {}: {}\".format(iteration, val_loss))\n",
        "    # Save Model for Later\n",
        "    saver.save(sess, \"./ex_time_series_model\")"
      ],
      "execution_count": 0,
      "outputs": [
        {
          "output_type": "stream",
          "text": [
            "Training loss in iteration 0: 0.2949942648410797, Elapsed Time:0.362656831741333\n",
            "Validation loss in iteration 0: 0.5522481799125671\n",
            "Training loss in iteration 100: 0.08017227798700333, Elapsed Time:0.008911609649658203\n",
            "Validation loss in iteration 100: 0.10293108224868774\n",
            "Training loss in iteration 200: 0.06323610991239548, Elapsed Time:0.00946187973022461\n",
            "Validation loss in iteration 200: 0.07138416916131973\n",
            "Training loss in iteration 300: 0.0275629460811615, Elapsed Time:0.009696006774902344\n",
            "Validation loss in iteration 300: 0.04450118914246559\n",
            "Training loss in iteration 400: 0.0559750534594059, Elapsed Time:0.009134292602539062\n",
            "Validation loss in iteration 400: 0.04784320667386055\n",
            "Training loss in iteration 500: 0.028444068506360054, Elapsed Time:0.008472681045532227\n",
            "Validation loss in iteration 500: 0.04188406094908714\n",
            "Training loss in iteration 600: 0.046953875571489334, Elapsed Time:0.008944511413574219\n",
            "Validation loss in iteration 600: 0.05190838873386383\n",
            "Training loss in iteration 700: 0.020188504830002785, Elapsed Time:0.00905156135559082\n",
            "Validation loss in iteration 700: 0.026518195867538452\n",
            "Training loss in iteration 800: 0.00748639740049839, Elapsed Time:0.00962209701538086\n",
            "Validation loss in iteration 800: 0.01229564007371664\n",
            "Training loss in iteration 900: 0.00850785430520773, Elapsed Time:0.008337974548339844\n",
            "Validation loss in iteration 900: 0.016490930691361427\n",
            "Training loss in iteration 1000: 0.008243141695857048, Elapsed Time:0.009232282638549805\n",
            "Validation loss in iteration 1000: 0.01348813995718956\n",
            "Training loss in iteration 1100: 0.00602352200075984, Elapsed Time:0.008945465087890625\n",
            "Validation loss in iteration 1100: 0.010940921492874622\n",
            "Training loss in iteration 1200: 0.006198264192789793, Elapsed Time:0.008874654769897461\n",
            "Validation loss in iteration 1200: 0.009656449779868126\n",
            "Training loss in iteration 1300: 0.009012240916490555, Elapsed Time:0.008778810501098633\n",
            "Validation loss in iteration 1300: 0.01095853466540575\n",
            "Training loss in iteration 1400: 0.004847258795052767, Elapsed Time:0.00889444351196289\n",
            "Validation loss in iteration 1400: 0.01221375446766615\n",
            "Training loss in iteration 1500: 0.0038280251901596785, Elapsed Time:0.009003162384033203\n",
            "Validation loss in iteration 1500: 0.012263145297765732\n",
            "Training loss in iteration 1600: 0.004432588815689087, Elapsed Time:0.009203672409057617\n",
            "Validation loss in iteration 1600: 0.01097653154283762\n",
            "Training loss in iteration 1700: 0.005665990058332682, Elapsed Time:0.008922338485717773\n",
            "Validation loss in iteration 1700: 0.014042492024600506\n",
            "Training loss in iteration 1800: 0.0071029867976903915, Elapsed Time:0.008649110794067383\n",
            "Validation loss in iteration 1800: 0.01039969827979803\n",
            "Training loss in iteration 1900: 0.006798069458454847, Elapsed Time:0.008942604064941406\n",
            "Validation loss in iteration 1900: 0.008356592617928982\n",
            "Training loss in iteration 2000: 0.0052154697477817535, Elapsed Time:0.009307146072387695\n",
            "Validation loss in iteration 2000: 0.00875419657677412\n",
            "Training loss in iteration 2100: 0.007388308644294739, Elapsed Time:0.009522676467895508\n",
            "Validation loss in iteration 2100: 0.009093593806028366\n",
            "Training loss in iteration 2200: 0.004569333512336016, Elapsed Time:0.008706092834472656\n",
            "Validation loss in iteration 2200: 0.013981606811285019\n",
            "Training loss in iteration 2300: 0.007220468949526548, Elapsed Time:0.009081125259399414\n",
            "Validation loss in iteration 2300: 0.011266756802797318\n",
            "Training loss in iteration 2400: 0.0030457477550953627, Elapsed Time:0.00931692123413086\n",
            "Validation loss in iteration 2400: 0.00960970763117075\n",
            "Training loss in iteration 2500: 0.019455445930361748, Elapsed Time:0.008889198303222656\n",
            "Validation loss in iteration 2500: 0.02674797922372818\n",
            "Training loss in iteration 2600: 0.016553407534956932, Elapsed Time:0.009033918380737305\n",
            "Validation loss in iteration 2600: 0.017915943637490273\n",
            "Training loss in iteration 2700: 0.007343970704823732, Elapsed Time:0.009293556213378906\n",
            "Validation loss in iteration 2700: 0.010384057648479939\n",
            "Training loss in iteration 2800: 0.008109412156045437, Elapsed Time:0.009344816207885742\n",
            "Validation loss in iteration 2800: 0.008726789616048336\n",
            "Training loss in iteration 2900: 0.005893091205507517, Elapsed Time:0.009395360946655273\n",
            "Validation loss in iteration 2900: 0.013893785886466503\n",
            "Training loss in iteration 3000: 0.006660134997218847, Elapsed Time:0.008858203887939453\n",
            "Validation loss in iteration 3000: 0.008297120220959187\n",
            "Training loss in iteration 3100: 0.012001082301139832, Elapsed Time:0.008942365646362305\n",
            "Validation loss in iteration 3100: 0.014650131575763226\n",
            "Training loss in iteration 3200: 0.003377133049070835, Elapsed Time:0.008906364440917969\n",
            "Validation loss in iteration 3200: 0.008285894058644772\n",
            "Training loss in iteration 3300: 0.0061230785213410854, Elapsed Time:0.008428335189819336\n",
            "Validation loss in iteration 3300: 0.008146481588482857\n",
            "Training loss in iteration 3400: 0.004509587772190571, Elapsed Time:0.008984804153442383\n",
            "Validation loss in iteration 3400: 0.012999008409678936\n",
            "Training loss in iteration 3500: 0.004044281784445047, Elapsed Time:0.009109735488891602\n",
            "Validation loss in iteration 3500: 0.011994986794888973\n",
            "Training loss in iteration 3600: 0.006343780551105738, Elapsed Time:0.008658409118652344\n",
            "Validation loss in iteration 3600: 0.012237243354320526\n",
            "Training loss in iteration 3700: 0.006316282320767641, Elapsed Time:0.00887155532836914\n",
            "Validation loss in iteration 3700: 0.010140095837414265\n",
            "Training loss in iteration 3800: 0.0023084895219653845, Elapsed Time:0.008760690689086914\n",
            "Validation loss in iteration 3800: 0.009644641540944576\n",
            "Training loss in iteration 3900: 0.003498629666864872, Elapsed Time:0.009312868118286133\n",
            "Validation loss in iteration 3900: 0.01028126198798418\n"
          ],
          "name": "stdout"
        }
      ]
    },
    {
      "cell_type": "code",
      "metadata": {
        "id": "fa9qnsUWR3Hk",
        "colab_type": "code",
        "outputId": "3c66c6f9-959b-427e-c79e-dbf5d0a066c3",
        "colab": {
          "base_uri": "https://localhost:8080/",
          "height": 309
        }
      },
      "source": [
        "fig = plt.figure()\n",
        "x_axis_train = np.arange(0, len(train_losses))\n",
        "plt.plot(x_axis_train, train_losses, 'r', label=\"Train\")\n",
        "x_axis_validation = [(i*100) for i in range(len(validation_losses))]\n",
        "plt.plot(x_axis_validation, validation_losses, 'b',  label=\"Validation\")\n",
        "fig.legend()\n",
        "plt.xlabel(\"Iteration\")\n",
        "plt.ylabel(\"Loss\")\n",
        "plt.title(\"Iteration vs Loss Plot\")\n",
        "plt.text(2500, 0.35, \"Time={:.2}s\".format(eval_time))\n",
        "plt.show()\n",
        "'''\n",
        "import os\n",
        "if not os.path.exists(\"output\"):\n",
        "    os.makedirs(\"output\")\n",
        "'''\n",
        "#fig.savefig(\"output/{}_Loss.png\".format(CELL_TYPE))"
      ],
      "execution_count": 0,
      "outputs": [
        {
          "output_type": "display_data",
          "data": {
            "image/png": "[encoded data removed]",
            "text/plain": [
              "<Figure size 432x288 with 1 Axes>"
            ]
          },
          "metadata": {
            "tags": [],
            "needs_background": "light"
          }
        }
      ]
    },
    {
      "cell_type": "markdown",
      "metadata": {
        "id": "ypiG5fZ_9znC",
        "colab_type": "text"
      },
      "source": [
        "______"
      ]
    },
    {
      "cell_type": "markdown",
      "metadata": {
        "id": "jkmavp5F9znD",
        "colab_type": "text"
      },
      "source": [
        "## Predicting Future (Test Data)"
      ]
    },
    {
      "cell_type": "markdown",
      "metadata": {
        "id": "h1h2ud7L9znD",
        "colab_type": "text"
      },
      "source": [
        "** Show the test_set (the last 12 months of your original complete data set) **"
      ]
    },
    {
      "cell_type": "code",
      "metadata": {
        "id": "UrBoRNye9znE",
        "colab_type": "code",
        "outputId": "31447f60-3d8c-4f55-c586-8a12b90d80d7",
        "colab": {
          "base_uri": "https://localhost:8080/",
          "height": 483
        }
      },
      "source": [
        "test_set"
      ],
      "execution_count": 0,
      "outputs": [
        {
          "output_type": "execute_result",
          "data": {
            "text/html": [
              "<div>\n",
              "<style scoped>\n",
              "    .dataframe tbody tr th:only-of-type {\n",
              "        vertical-align: middle;\n",
              "    }\n",
              "\n",
              "    .dataframe tbody tr th {\n",
              "        vertical-align: top;\n",
              "    }\n",
              "\n",
              "    .dataframe thead th {\n",
              "        text-align: right;\n",
              "    }\n",
              "</style>\n",
              "<table border=\"1\" class=\"dataframe\">\n",
              "  <thead>\n",
              "    <tr style=\"text-align: right;\">\n",
              "      <th></th>\n",
              "      <th>Crop</th>\n",
              "    </tr>\n",
              "    <tr>\n",
              "      <th>Month</th>\n",
              "      <th></th>\n",
              "    </tr>\n",
              "  </thead>\n",
              "  <tbody>\n",
              "    <tr>\n",
              "      <th>1974-12-01 01:00:00</th>\n",
              "      <td>813.0</td>\n",
              "    </tr>\n",
              "    <tr>\n",
              "      <th>1975-01-01 01:00:00</th>\n",
              "      <td>834.0</td>\n",
              "    </tr>\n",
              "    <tr>\n",
              "      <th>1975-02-01 01:00:00</th>\n",
              "      <td>782.0</td>\n",
              "    </tr>\n",
              "    <tr>\n",
              "      <th>1975-03-01 01:00:00</th>\n",
              "      <td>892.0</td>\n",
              "    </tr>\n",
              "    <tr>\n",
              "      <th>1975-04-01 01:00:00</th>\n",
              "      <td>903.0</td>\n",
              "    </tr>\n",
              "    <tr>\n",
              "      <th>1975-05-01 01:00:00</th>\n",
              "      <td>966.0</td>\n",
              "    </tr>\n",
              "    <tr>\n",
              "      <th>1975-06-01 01:00:00</th>\n",
              "      <td>937.0</td>\n",
              "    </tr>\n",
              "    <tr>\n",
              "      <th>1975-07-01 01:00:00</th>\n",
              "      <td>896.0</td>\n",
              "    </tr>\n",
              "    <tr>\n",
              "      <th>1975-08-01 01:00:00</th>\n",
              "      <td>858.0</td>\n",
              "    </tr>\n",
              "    <tr>\n",
              "      <th>1975-09-01 01:00:00</th>\n",
              "      <td>817.0</td>\n",
              "    </tr>\n",
              "    <tr>\n",
              "      <th>1975-10-01 01:00:00</th>\n",
              "      <td>827.0</td>\n",
              "    </tr>\n",
              "    <tr>\n",
              "      <th>1975-11-01 01:00:00</th>\n",
              "      <td>797.0</td>\n",
              "    </tr>\n",
              "    <tr>\n",
              "      <th>1975-12-01 01:00:00</th>\n",
              "      <td>843.0</td>\n",
              "    </tr>\n",
              "  </tbody>\n",
              "</table>\n",
              "</div>"
            ],
            "text/plain": [
              "                      Crop\n",
              "Month                     \n",
              "1974-12-01 01:00:00  813.0\n",
              "1975-01-01 01:00:00  834.0\n",
              "1975-02-01 01:00:00  782.0\n",
              "1975-03-01 01:00:00  892.0\n",
              "1975-04-01 01:00:00  903.0\n",
              "1975-05-01 01:00:00  966.0\n",
              "1975-06-01 01:00:00  937.0\n",
              "1975-07-01 01:00:00  896.0\n",
              "1975-08-01 01:00:00  858.0\n",
              "1975-09-01 01:00:00  817.0\n",
              "1975-10-01 01:00:00  827.0\n",
              "1975-11-01 01:00:00  797.0\n",
              "1975-12-01 01:00:00  843.0"
            ]
          },
          "metadata": {
            "tags": []
          },
          "execution_count": 26
        }
      ]
    },
    {
      "cell_type": "markdown",
      "metadata": {
        "id": "vA6PVkVv9znG",
        "colab_type": "text"
      },
      "source": [
        "** Now we want to attempt to predict these 12 months of data, using only the training data we had. To do this we will feed in a seed training_instance of the last 12 months of the training_set of data to predict 12 months into the future. Then we will be able to compare our predicted 12 months to our actual true historical values from the test set! **"
      ]
    },
    {
      "cell_type": "markdown",
      "metadata": {
        "id": "PU_DTFd29znH",
        "colab_type": "text"
      },
      "source": [
        "# Prediction Session\n",
        "\n",
        "### NOTE: Recall that our model is really only trained to predict 1 time step ahead, asking it to predict 12 steps is a big ask, and technically not what it was trained to do! Think of this more as predicting new values based off some previous pattern, rather than trying to directly predict the future. You would need to go back to the original model and train the model to predict 12 time steps ahead to really get a higher accuracy on the test data. (Which has its limits due to the smaller size of data set)\n",
        "\n",
        "** Fill out the session code below to predict 12 months of data based off the last 12 months of data from the training set. The hardest part about this is adjusting the arrays with their shapes and sizes. "
      ]
    },
    {
      "cell_type": "code",
      "metadata": {
        "id": "wk3zg9dg9znH",
        "colab_type": "code",
        "outputId": "d2c1e729-d4d1-4704-ff04-668d26600b48",
        "colab": {
          "base_uri": "https://localhost:8080/",
          "height": 34
        }
      },
      "source": [
        "with tf.Session() as sess:\n",
        "    \n",
        "    # Use your Saver instance to restore your saved rnn time series model\n",
        "    saver.restore(sess, \"./ex_time_series_model\")\n",
        "    \n",
        "    # Create a numpy array for your predictive seed from the last 12 months of the \n",
        "    # training set data. Hint: Just use tail(12) and then pass it to an np.array\n",
        "\n",
        "    #evaluate validation loss\n",
        "    train_seed, valid_loss = sess.run([outputs, loss], feed_dict={X: np.reshape(train_scaled[-TIME_STEPS_NUMBER:], newshape=(BATCH_SIZE, -1, 1)), y: np.reshape(test_scaled[:-1], newshape=(BATCH_SIZE, -1, 1))})\n"
      ],
      "execution_count": 0,
      "outputs": [
        {
          "output_type": "stream",
          "text": [
            "INFO:tensorflow:Restoring parameters from ./ex_time_series_model\n"
          ],
          "name": "stdout"
        }
      ]
    },
    {
      "cell_type": "markdown",
      "metadata": {
        "id": "qWEIL9GO9znJ",
        "colab_type": "text"
      },
      "source": [
        "** Show the result of the predictions. **"
      ]
    },
    {
      "cell_type": "code",
      "metadata": {
        "id": "3cmTYQX89znK",
        "colab_type": "code",
        "outputId": "2ffba108-90d5-49c2-d1fd-e1e949328aec",
        "colab": {
          "base_uri": "https://localhost:8080/",
          "height": 221
        }
      },
      "source": [
        "train_seed"
      ],
      "execution_count": 0,
      "outputs": [
        {
          "output_type": "execute_result",
          "data": {
            "text/plain": [
              "array([[[0.59922564],\n",
              "        [0.6391917 ],\n",
              "        [0.51879203],\n",
              "        [0.76312375],\n",
              "        [0.97068095],\n",
              "        [0.8574726 ],\n",
              "        [0.83694094],\n",
              "        [0.7339664 ],\n",
              "        [0.6387445 ],\n",
              "        [0.6220431 ],\n",
              "        [0.5382649 ],\n",
              "        [0.6209597 ]]], dtype=float32)"
            ]
          },
          "metadata": {
            "tags": []
          },
          "execution_count": 28
        }
      ]
    },
    {
      "cell_type": "markdown",
      "metadata": {
        "id": "4rCdGCYJ9znN",
        "colab_type": "text"
      },
      "source": [
        "** Grab the portion of the results that are the predicted values and apply inverse_transform on them to turn them back into crop production value units. Also reshape the results to be (12,1) so we can easily add them to the test_set dataframe.**"
      ]
    },
    {
      "cell_type": "code",
      "metadata": {
        "id": "5kK2CojO9znO",
        "colab_type": "code",
        "colab": {}
      },
      "source": [
        "results = scaler.inverse_transform(np.array(train_seed).reshape(12,1))"
      ],
      "execution_count": 0,
      "outputs": []
    },
    {
      "cell_type": "code",
      "metadata": {
        "id": "mBZNmkCvtR5Z",
        "colab_type": "code",
        "outputId": "4244433b-532b-415c-9f90-4d8e80fa0ae5",
        "colab": {
          "base_uri": "https://localhost:8080/",
          "height": 221
        }
      },
      "source": [
        ""
      ],
      "execution_count": 0,
      "outputs": [
        {
          "output_type": "stream",
          "text": [
            "[[802.27783]\n",
            " [818.90375]\n",
            " [768.81744]\n",
            " [870.4595 ]\n",
            " [956.8032 ]\n",
            " [909.7086 ]\n",
            " [901.1674 ]\n",
            " [858.32996]\n",
            " [818.71765]\n",
            " [811.7699 ]\n",
            " [776.91815]\n",
            " [811.3192 ]]\n"
          ],
          "name": "stdout"
        }
      ]
    },
    {
      "cell_type": "markdown",
      "metadata": {
        "id": "EYSrreCl9znR",
        "colab_type": "text"
      },
      "source": [
        "** Create a new column on the test_set called \"Prediction\" and set it equal to the prediction results. You may get a warning about this, feel free to ignore it.**"
      ]
    },
    {
      "cell_type": "code",
      "metadata": {
        "id": "q6SUT7Vc9znR",
        "colab_type": "code",
        "colab": {}
      },
      "source": [
        "test_set = test_set[:-1]\n"
      ],
      "execution_count": 0,
      "outputs": []
    },
    {
      "cell_type": "code",
      "metadata": {
        "id": "K7X16FuAhBXw",
        "colab_type": "code",
        "outputId": "4f44441b-480d-41b6-f79f-6f8307fa5909",
        "colab": {
          "base_uri": "https://localhost:8080/",
          "height": 139
        }
      },
      "source": [
        "test_set[\"Prediction\"] = results"
      ],
      "execution_count": 0,
      "outputs": [
        {
          "output_type": "stream",
          "text": [
            "/usr/local/lib/python3.6/dist-packages/ipykernel_launcher.py:1: SettingWithCopyWarning: \n",
            "A value is trying to be set on a copy of a slice from a DataFrame.\n",
            "Try using .loc[row_indexer,col_indexer] = value instead\n",
            "\n",
            "See the caveats in the documentation: https://pandas.pydata.org/pandas-docs/stable/user_guide/indexing.html#returning-a-view-versus-a-copy\n",
            "  \"\"\"Entry point for launching an IPython kernel.\n"
          ],
          "name": "stderr"
        }
      ]
    },
    {
      "cell_type": "markdown",
      "metadata": {
        "id": "wYqNHy0H9zna",
        "colab_type": "text"
      },
      "source": [
        "** View the test_set dataframe. **"
      ]
    },
    {
      "cell_type": "code",
      "metadata": {
        "id": "vaGe0sDR9zna",
        "colab_type": "code",
        "outputId": "a1db9027-7d77-48a9-e012-f7969f29374f",
        "colab": {
          "base_uri": "https://localhost:8080/",
          "height": 452
        }
      },
      "source": [
        "test_set"
      ],
      "execution_count": 0,
      "outputs": [
        {
          "output_type": "execute_result",
          "data": {
            "text/html": [
              "<div>\n",
              "<style scoped>\n",
              "    .dataframe tbody tr th:only-of-type {\n",
              "        vertical-align: middle;\n",
              "    }\n",
              "\n",
              "    .dataframe tbody tr th {\n",
              "        vertical-align: top;\n",
              "    }\n",
              "\n",
              "    .dataframe thead th {\n",
              "        text-align: right;\n",
              "    }\n",
              "</style>\n",
              "<table border=\"1\" class=\"dataframe\">\n",
              "  <thead>\n",
              "    <tr style=\"text-align: right;\">\n",
              "      <th></th>\n",
              "      <th>Crop</th>\n",
              "      <th>Prediction</th>\n",
              "    </tr>\n",
              "    <tr>\n",
              "      <th>Month</th>\n",
              "      <th></th>\n",
              "      <th></th>\n",
              "    </tr>\n",
              "  </thead>\n",
              "  <tbody>\n",
              "    <tr>\n",
              "      <th>1974-12-01 01:00:00</th>\n",
              "      <td>813.0</td>\n",
              "      <td>802.277832</td>\n",
              "    </tr>\n",
              "    <tr>\n",
              "      <th>1975-01-01 01:00:00</th>\n",
              "      <td>834.0</td>\n",
              "      <td>818.903748</td>\n",
              "    </tr>\n",
              "    <tr>\n",
              "      <th>1975-02-01 01:00:00</th>\n",
              "      <td>782.0</td>\n",
              "      <td>768.817444</td>\n",
              "    </tr>\n",
              "    <tr>\n",
              "      <th>1975-03-01 01:00:00</th>\n",
              "      <td>892.0</td>\n",
              "      <td>870.459473</td>\n",
              "    </tr>\n",
              "    <tr>\n",
              "      <th>1975-04-01 01:00:00</th>\n",
              "      <td>903.0</td>\n",
              "      <td>956.803223</td>\n",
              "    </tr>\n",
              "    <tr>\n",
              "      <th>1975-05-01 01:00:00</th>\n",
              "      <td>966.0</td>\n",
              "      <td>909.708618</td>\n",
              "    </tr>\n",
              "    <tr>\n",
              "      <th>1975-06-01 01:00:00</th>\n",
              "      <td>937.0</td>\n",
              "      <td>901.167419</td>\n",
              "    </tr>\n",
              "    <tr>\n",
              "      <th>1975-07-01 01:00:00</th>\n",
              "      <td>896.0</td>\n",
              "      <td>858.329956</td>\n",
              "    </tr>\n",
              "    <tr>\n",
              "      <th>1975-08-01 01:00:00</th>\n",
              "      <td>858.0</td>\n",
              "      <td>818.717651</td>\n",
              "    </tr>\n",
              "    <tr>\n",
              "      <th>1975-09-01 01:00:00</th>\n",
              "      <td>817.0</td>\n",
              "      <td>811.769897</td>\n",
              "    </tr>\n",
              "    <tr>\n",
              "      <th>1975-10-01 01:00:00</th>\n",
              "      <td>827.0</td>\n",
              "      <td>776.918152</td>\n",
              "    </tr>\n",
              "    <tr>\n",
              "      <th>1975-11-01 01:00:00</th>\n",
              "      <td>797.0</td>\n",
              "      <td>811.319214</td>\n",
              "    </tr>\n",
              "  </tbody>\n",
              "</table>\n",
              "</div>"
            ],
            "text/plain": [
              "                      Crop  Prediction\n",
              "Month                                 \n",
              "1974-12-01 01:00:00  813.0  802.277832\n",
              "1975-01-01 01:00:00  834.0  818.903748\n",
              "1975-02-01 01:00:00  782.0  768.817444\n",
              "1975-03-01 01:00:00  892.0  870.459473\n",
              "1975-04-01 01:00:00  903.0  956.803223\n",
              "1975-05-01 01:00:00  966.0  909.708618\n",
              "1975-06-01 01:00:00  937.0  901.167419\n",
              "1975-07-01 01:00:00  896.0  858.329956\n",
              "1975-08-01 01:00:00  858.0  818.717651\n",
              "1975-09-01 01:00:00  817.0  811.769897\n",
              "1975-10-01 01:00:00  827.0  776.918152\n",
              "1975-11-01 01:00:00  797.0  811.319214"
            ]
          },
          "metadata": {
            "tags": []
          },
          "execution_count": 33
        }
      ]
    },
    {
      "cell_type": "code",
      "metadata": {
        "id": "AgFiPL_zg5VB",
        "colab_type": "code",
        "colab": {}
      },
      "source": [
        "# compute the mean absolute error\n",
        "sum = 0\n",
        "for i in range(len(test_set)):\n",
        "  sum += abs(test_set.iloc[i, 1] - test_set.iloc[i, 0])\n",
        "mae = sum/len(test_set)"
      ],
      "execution_count": 0,
      "outputs": []
    },
    {
      "cell_type": "markdown",
      "metadata": {
        "id": "Qmzuc7hr9znd",
        "colab_type": "text"
      },
      "source": [
        "** Plot out the two columns for comparison. **"
      ]
    },
    {
      "cell_type": "code",
      "metadata": {
        "id": "33uyKWfr9znd",
        "colab_type": "code",
        "outputId": "660a7205-1476-4592-885c-d877b45ac0e2",
        "colab": {
          "base_uri": "https://localhost:8080/",
          "height": 281
        }
      },
      "source": [
        "fig = test_set.plot().get_figure()\n",
        "plt.figtext(0.2, 0.8, \"Mean Absolute Error={:.5}\".format(mae))\n",
        "#fig.savefig(\"output/{}_Prediction.png\".format(CELL_TYPE))\n",
        "plt.show()"
      ],
      "execution_count": 0,
      "outputs": [
        {
          "output_type": "display_data",
          "data": {
            "image/png": "[encoded data removed]",
            "text/plain": [
              "<Figure size 432x288 with 1 Axes>"
            ]
          },
          "metadata": {
            "tags": [],
            "needs_background": "light"
          }
        }
      ]
    },
    {
      "cell_type": "code",
      "metadata": {
        "id": "1Lr5T7q5vECV",
        "colab_type": "code",
        "outputId": "81fb6faa-c673-4889-dd82-e91605cd1a1f",
        "colab": {
          "base_uri": "https://localhost:8080/",
          "height": 255
        }
      },
      "source": [
        "!zip -r /content/file.zip /content/output"
      ],
      "execution_count": 0,
      "outputs": [
        {
          "output_type": "stream",
          "text": [
            "updating: content/output/ (stored 0%)\n",
            "updating: content/output/Multi_3LSTM_Loss.png (deflated 7%)\n",
            "updating: content/output/outputs.zip (stored 0%)\n",
            "updating: content/output/GRU_Prediction.png (deflated 4%)\n",
            "updating: content/output/RNN_Loss.png (deflated 8%)\n",
            "updating: content/output/Multi_3GRU_Prediction.png (deflated 4%)\n",
            "updating: content/output/LSTM_Prediction.png (deflated 4%)\n",
            "updating: content/output/Multi_3LSTM_Prediction.png (deflated 4%)\n",
            "updating: content/output/Multi_3RNN_Prediction.png (deflated 4%)\n",
            "updating: content/output/RNN_Prediction.png (deflated 4%)\n",
            "updating: content/output/LSTM_Loss.png (deflated 8%)\n",
            "updating: content/output/Multi_3RNN_Loss.png (deflated 7%)\n",
            "updating: content/output/Multi_3GRU_Loss.png (deflated 7%)\n",
            "updating: content/output/GRU_Loss.png (deflated 7%)\n"
          ],
          "name": "stdout"
        }
      ]
    }
  ]
}